{
 "cells": [
  {
   "cell_type": "code",
   "execution_count": null,
   "id": "2169be6d",
   "metadata": {},
   "outputs": [],
   "source": [
    "# basic python system/path library\n",
    "import os\n",
    "import glob\n",
    "import shutil\n",
    "from collections import defaultdict, OrderedDict\n",
    "import time\n",
    "from configparser import ConfigParser\n",
    "\n",
    "# numerical libraries\n",
    "import numpy as np\n",
    "import pandas as pd\n",
    "\n",
    "# binary file libraries\n",
    "import pyarrow\n",
    "import openpyxl\n",
    "\n",
    "# HTTP library\n",
    "import requests\n",
    "\n",
    "# Compression libraries\n",
    "import zipfile\n",
    "import tarfile\n",
    "import gzip\n",
    "\n",
    "# plotting libraries\n",
    "import matplotlib.pyplot as plt\n",
    "plt.rc('axes', titlesize=30)\n",
    "plt.rc('axes', labelsize=20)\n",
    "import seaborn as sns\n",
    "import contextily as cx\n",
    "\n",
    "# database libraries\n",
    "import pyodbc\n",
    "\n",
    "# Geographical processing data\n",
    "import geopandas as gpd\n",
    "from shapely.geometry import Polygon, LineString, Point"
   ]
  },
  {
   "cell_type": "markdown",
   "id": "c96c8383",
   "metadata": {},
   "source": [
    "## Funciones"
   ]
  },
  {
   "cell_type": "code",
   "execution_count": null,
   "id": "94996314",
   "metadata": {},
   "outputs": [],
   "source": [
    "def unzip(path_zip, unzip_dir, password=None):\n",
    "    \"\"\"Descomprime el fichero de entrada en un directorio de \n",
    "    salida.\n",
    "\n",
    "    Args:\n",
    "        path_zip (atr): Ruta al fichero comprimido en ZIP.\n",
    "        unzip_dir (str): Directorio donde se descomprimirá el fichero.\n",
    "        password (str, optional): Constraseña para descomprimir el fichero de entrada. Defaults to None.\n",
    "\n",
    "    Returns:\n",
    "        int: 0, si el proceso se ha desarrollado sin errores.\n",
    "             1, en caso contrario.\n",
    "    \"\"\"\n",
    "    file_zip = zipfile.ZipFile(path_zip, \"r\")\n",
    "    try:\n",
    "        print(f'\"{path_zip}\" content:')\n",
    "        print(file_zip.namelist())\n",
    "        file_zip.extractall(pwd=password, path=unzip_dir)\n",
    "    except Exception as e:\n",
    "        print(f'ERROR: Se ha producido un error al descomprimir el fichero \"{file_zip}\".')\n",
    "        print(str(e))\n",
    "        return 1\n",
    "\n",
    "    file_zip.close()\n",
    "    \n",
    "    return 0"
   ]
  },
  {
   "cell_type": "code",
   "execution_count": null,
   "id": "5e2e0656",
   "metadata": {},
   "outputs": [],
   "source": [
    "def get_url(url, download_dir):\n",
    "    \"\"\"Descarga el fichero apuntado por 'url' en el directorio 'download_dir'.\n",
    "    \n",
    "    Args:\n",
    "        url (str): Fichero apuntado por la URL.\n",
    "        download_dir (str): Directorio donde se almacenará el fichero descargado.\n",
    "\n",
    "    Returns:\n",
    "        int: Número de caracteres descargados.\n",
    "             -1, en caso de error.\n",
    "    \"\"\"\n",
    "    \n",
    "    \n",
    "    prefix, name = os.path.split(url)\n",
    "    \n",
    "    if not os.path.exists(download_dir):\n",
    "        try:\n",
    "            os.makedirs(download_dir, exist_ok=True)\n",
    "        except IOError as e:\n",
    "            print(f'ERROR: No se pudo generar el directorio de salida \"{download_dir}\".')\n",
    "            print(str(e))\n",
    "            return -1\n",
    "    \n",
    "    # ruta de descarga del fichero apuntado por la url\n",
    "    download_path = os.path.join(download_dir, name)\n",
    "    \n",
    "    # obteniendo datos de la url mediante el método GET\n",
    "    r = requests.get(url)\n",
    "    \n",
    "    # Escribiendo el fichero descargado en la ruta de descarga\n",
    "    with open(download_path, 'wb') as f:\n",
    "        f.write(r.content)\n",
    "    \n",
    "    return len(r.content)"
   ]
  },
  {
   "cell_type": "code",
   "execution_count": null,
   "id": "b076541e",
   "metadata": {},
   "outputs": [],
   "source": [
    "def read_db_piezometry(path):\n",
    "    \"\"\"Lee la información contenida en el fichero MS Access que viene dado por el parámetro 'path'.\n",
    "\n",
    "    Args:\n",
    "        path (str): Ruta en disco al fichero MS Access.\n",
    "\n",
    "    Returns:\n",
    "        tuple: (pd.DataFrame piezometros, pd.DataFrame niveles)\n",
    "    \"\"\"\n",
    "\n",
    "    # Conexión a MS Access\n",
    "    path = path.replace(r'\\\\', '/')\n",
    "    print(f'path={path}')    \n",
    "    cnxn = pyodbc.connect(r'DRIVER={};DBQ={};UID=\"\";PWD=\"\";'.format('Microsoft Access Driver (*.mdb, *.accdb)', path)) \n",
    "    \n",
    "    \n",
    "    # Consulta sobre los datos de Piezometros a MS Access\n",
    "    query_piezometros = pd.read_sql('SELECT * FROM 01_Piezometros', con=cnxn)\n",
    "    \n",
    "    # Paso a dataframe\n",
    "    df_piezometros = pd.DataFrame(query_piezometros)\n",
    "    \n",
    "    # Consulta sobre las medias de piezometría a MS Access\n",
    "    query_niveles = pd.read_sql(sql='SELECT * FROM 02_Niveles', con=cnxn, parse_dates={'FechaP':'%Y-%m-%d'})\n",
    "    \n",
    "    # Paso a dataframe\n",
    "    df_niveles = pd.DataFrame(query_niveles)\n",
    "   \n",
    "    return df_piezometros, df_niveles"
   ]
  },
  {
   "cell_type": "code",
   "execution_count": null,
   "id": "4a6e70ae",
   "metadata": {},
   "outputs": [],
   "source": [
    "def media_ponderada_por_distancia(distances, df_measures):\n",
    "    \"\"\"Determina el valor de la media ponderada por el inverso de la distancia de\n",
    "    las medidas dadas por el parámetro df_measures.\n",
    "\n",
    "    Args:\n",
    "        distances (np.array): Array de distancias entre puntos considerados.\n",
    "        df_measures (pd.Serie): Serie de medidas tomadas.\n",
    "\n",
    "    Returns:\n",
    "        np.array: Array de medidas promedio de las magnitudes pasadas \n",
    "            ponderadas por el inverso de la distancia.\n",
    "    \"\"\"\n",
    "\n",
    "    weights = 1 / distances\n",
    "    \n",
    "    return np.dot(weights, df_measures.to_numpy().T) / weights.sum()"
   ]
  },
  {
   "cell_type": "code",
   "execution_count": null,
   "id": "ed2e41ad",
   "metadata": {},
   "outputs": [],
   "source": [
    "def get_precipitations(gdf_location, gdf_nodes_grid, df_measures, mode='closest', radius_m=5000.0, field_date='fecha'):\n",
    "    \"\"\"Devuelve un dataframe con fechas como índices y medidas de precipitación calculadas según el \n",
    "    algoritmo dado por el parámetro 'mode'.\n",
    "\n",
    "    Args:\n",
    "        gdf_location (gpd.GeoDataFrame): GeoDataFrame con información sobre las ubicaciones de muestreo.\n",
    "        gdf_nodes_grid (gdf.GeoDataFrame): GeoDataFrame con información sobre los puntos de los que \n",
    "            se dispone de medidas de precipitación.\n",
    "        df_measures (pd.DataFrame): DataFrame con las medidas de precipitación, para cada punto \n",
    "        referenciado en 'gdf_nodes_grid'.\n",
    "        mode (str, optional): Algoritmo empleado para el cálculo de la precipitación que se \n",
    "            asociará a cada punto dado en 'gdf_location'. Hay dos posibilidades: \n",
    "                - 'closest', asocia la precipitación del punto más cercano.\n",
    "                - cualquier otro valor, que use el algoritmo del promedio de la precipitación\n",
    "                    ponderado por el inverso de la distancia para los puntos con medida de \n",
    "                    precipitación más cercanos.\n",
    "            Defaults to 'closest'.\n",
    "        radius_m (float, optional): Distancia máxima (en metros) a los puntos considerados como \n",
    "            próximos. Defaults to 5000.\n",
    "        field_date (str, optional): Nombre del campo que contiene la fecha de las mediciones de \n",
    "            precipitacion en 'df_measures'. Defaults to 'fecha'.\n",
    "\n",
    "    Returns:\n",
    "        tuple: (precipitaciones, asociaciones)\n",
    "            donde\n",
    "                - precipitaciones (dict), diccionario cuyas claves son los valores de los índices\n",
    "                    del GeoDataFrame 'gdf_location', y cuyo valor es la precipitación estimada según el \n",
    "                    algoritmo seleccionado.\n",
    "                - asociaciones (dict), diccionario que contiene la asociación realizada entre \n",
    "                    puntos de muestreo y de precipitación. Sus claves son: \n",
    "                        index_loc, index_grid y distance\n",
    "                    donde \n",
    "                        - 'index_loc' (list), son loas valores de los índices del GeoDataFrame \n",
    "                            'gdf_location' que identifican cada punto de muestreo,\n",
    "                        - 'index_grid' (list), es una lista con los nodos de precipitación que se relacionan\n",
    "                            con cada punto de muestreo (este valor puede ser una lista de listas), y\n",
    "                        - distance (list), es una lista con las distancias (en metros) de cada punto de \n",
    "                            interés a los nodos de precipitación con los que se relaciona (este valor \n",
    "                            puede ser una lista de listas).\n",
    "    \"\"\"\n",
    "\n",
    "    # Diccionario de listas donde almacenaremos los resultados de puntos cercanos\n",
    "    pairs = defaultdict(list)\n",
    "    measure = OrderedDict()\n",
    "    measure['fecha']= df_measures.loc[:, field_date].values\n",
    "\n",
    "    # creo el buffer alrededor de cada localización\n",
    "    gdf_location[\"buffered\"] = gdf_location.buffer(radius_m)\n",
    "    \n",
    "    # para cada localización de medida...\n",
    "    for ind in gdf_location.index:\n",
    "        location = gdf_location.loc[[ind]]\n",
    "        # print(f'location = {location}')\n",
    "        inside = gdf_nodes_grid.geometry.within(location.buffered.values[0]) # boolean serie\n",
    "        \n",
    "        if inside.to_numpy().sum() == 0: # not grid points in location buffers\n",
    "            continue\n",
    "        \n",
    "        gdf_closer_nodes = gdf_nodes_grid[inside]\n",
    "    \n",
    "        # Computing distances\n",
    "        distances = gdf_closer_nodes.geometry.distance(location.geometry.values[0])\n",
    "\n",
    "        pairs['index_loc'].append(ind)\n",
    "        if mode.lower() == 'closest':\n",
    "            # Tomamos el punto de gdf_nodes_grid más cercano dentro del buffer\n",
    "            index_min_dist = distances.argmin()\n",
    "            closest_index_grid = gdf_closer_nodes.index[index_min_dist]\n",
    "            pairs['index_grid'].append(closest_index_grid)\n",
    "            pairs['distance'].append(distances.values.min())\n",
    "            measure[ind] = df_measures.loc[:, closest_index_grid].to_numpy()\n",
    "        else:\n",
    "            pairs['index_grid'].append(gdf_closer_nodes.index)\n",
    "            pairs['distance'].append(distances.values)\n",
    "            \n",
    "            # Tomamos los puntos de gdf_nodes_grid dentro del buffer (media ponderada por distancia)\n",
    "            measure[ind] = media_ponderada_por_distancia(distances, df_measures.loc[:, gdf_closer_nodes.index])\n",
    "        \n",
    "    return measure, pairs"
   ]
  },
  {
   "cell_type": "code",
   "execution_count": null,
   "id": "99001e5b",
   "metadata": {},
   "outputs": [],
   "source": [
    "def get_piezometry(gdf_location, gdf_piezo, df_measures, radius_m=5000.0, field_date='fecha'):\n",
    "    \"\"\"Devuelve un dataframe con fechas como índices y medidas. Para cada ubicación de\n",
    "    'gdf_location', le asocia la serie temporal más larga de medidas de piezometría\n",
    "    dentro de las disponibles en un radio de 'radius_m' alrededor de dicha ubicación.\n",
    "    \n",
    "    Args:\n",
    "        gdf_location (gpd.GeoDataFrame): GeoDataFrame con información sobre las ubicaciones de muestreo.\n",
    "        gdf_piezo (gdf.GeoDataFrame): GeoDataFrame con información sobre los puntos de los que \n",
    "            se dispone de medidas de piezometría.\n",
    "        df_measures (pd.DataFrame): DataFrame con las medidas de precipitación, para cada punto \n",
    "            referenciado en 'gdf_piezo'.\n",
    "        radius_m (float, optional): Distancia máxima (en metros) a los puntos considerados como \n",
    "            próximos. Defaults to 5000.0.\n",
    "        field_date (str, optional): Nombre del campo que contiene la fecha de las mediciones de \n",
    "            piezometría en 'df_measures'. Defaults to 'fecha'.\n",
    "\n",
    "    Returns:\n",
    "        tuple: (piezometrías, asociaciones)\n",
    "            donde\n",
    "                - piezometrías (dict), es un diccionario cuyas claves son los valores de los índices\n",
    "                    del GeoDataFrame 'gdf_location', y cuyo valor es la piezometría estimada según el \n",
    "                    algoritmo de serie de medidas piezométricas más larga de entre las ubicaciones \n",
    "                    de los piezómetros cercanos.\n",
    "                - asociaciones (dict), diccionario de listas que contiene la asociación realizada entre \n",
    "                    puntos de muestreo y de precipitación. Sus claves son: \n",
    "                        index_loc, index_piezo y distance\n",
    "                    donde \n",
    "                        - 'index_loc' (list), son loas valores de los índices del GeoDataFrame \n",
    "                            'gdf_location' que identifican cada punto de muestreo,\n",
    "                        - 'index_piezo' (list), es una lista con los puntos de medida piezométrica que \n",
    "                            se relacionan con cada punto de muestreo, y\n",
    "                        - distance (list), es una lista con las distancias (en metros) de cada punto de \n",
    "                            interés a los puntos con medidas piezométricas con los que se relaciona.\n",
    "    \"\"\"\n",
    "    \n",
    "    # Diccionario de listas donde almacenaremos los resultados de puntos cercanos\n",
    "    pairs = defaultdict(list)\n",
    "    measure = OrderedDict()\n",
    "\n",
    "    # creo el buffer alrededor de cada localización\n",
    "    gdf_location[\"buffered\"] = gdf_location.buffer(radius_m)\n",
    "    \n",
    "    # para cada localización de medida...\n",
    "    for ind in gdf_location.index:\n",
    "        location = gdf_location.iloc[[ind]]\n",
    "        inside = gdf_piezo.geometry.within(location.buffered.values[0]) # boolean serie\n",
    "        \n",
    "        if inside.sum() == 0: # not grid points in location buffers\n",
    "            continue\n",
    "        \n",
    "        gdf_close_nodes = gdf_piezo[inside.values]\n",
    "    \n",
    "        # Computing distances\n",
    "        distances = gdf_piezo.geometry.distance(location.geometry.values[0])\n",
    "        # print(f'Nodos más cercanos = {gdf_close_nodes.index}')\n",
    "        #print(f'Distancias de los nodos más cercanos = {distances}')\n",
    "        #break    \n",
    "        # Eligiendo la serie más larga de las disponibles en el buffer de 'radius_m' metros\n",
    "        better_index = None\n",
    "        lon_serie = -1\n",
    "        for i in gdf_close_nodes.index:\n",
    "            n_measures = df_measures.loc[i,'fecha'].values.size\n",
    "            if better_index is None or lon_serie < n_measures:\n",
    "                better_index = i\n",
    "                lon_serie = n_measures\n",
    "        # Tomamos la serie más larga de medidas piezometricas\n",
    "        measure[ind] = df_measures.loc[better_index,['fecha', 'Cota_NP_msnm']]\n",
    "        \n",
    "        pairs['index_piezo'].append(better_index)\n",
    "        pairs['index_loc'].append(ind)\n",
    "        pairs['distance'].append(distances[better_index])\n",
    "            \n",
    "        \n",
    "    return measure, pairs"
   ]
  },
  {
   "cell_type": "markdown",
   "id": "3b2b3b23",
   "metadata": {},
   "source": [
    "## Parámetros del notebook"
   ]
  },
  {
   "cell_type": "code",
   "execution_count": null,
   "id": "502e81f8",
   "metadata": {},
   "outputs": [],
   "source": [
    "# Lectura del fichero de configuración\n",
    "config = ConfigParser(inline_comment_prefixes=\"#\")\n",
    "config.read(\"config.ini\" )"
   ]
  },
  {
   "cell_type": "code",
   "execution_count": null,
   "id": "51c118a8",
   "metadata": {},
   "outputs": [],
   "source": [
    "# List all contents\n",
    "print(\"List all contents\")\n",
    "for section in config.sections():\n",
    "    for option in config.options(section):\n",
    "        print(f\"{section}: {option} = {config.get(section, option)} (type = {type(config.get(section, option))})\")"
   ]
  },
  {
   "cell_type": "markdown",
   "id": "1d0a7f91",
   "metadata": {},
   "source": [
    "**Main code**"
   ]
  },
  {
   "cell_type": "markdown",
   "id": "8d3dc01a",
   "metadata": {},
   "source": [
    "## 1. Puntos de muestreo\n",
    "\n",
    "Es un fichero en formato CSV que contiene información de objetos puntuales. Los campos están separados por ';'"
   ]
  },
  {
   "cell_type": "code",
   "execution_count": null,
   "id": "fb09baac",
   "metadata": {},
   "outputs": [],
   "source": [
    "locations_file = config.get('paths', 'locations_file')\n",
    "df_loc = pd.read_csv(locations_file, sep=';', decimal=',')"
   ]
  },
  {
   "cell_type": "markdown",
   "id": "c3682c92",
   "metadata": {},
   "source": [
    "Establezco como índice del *DataFrame* la columna dada por el campo 'location_id' en el fichero *config.ini*."
   ]
  },
  {
   "cell_type": "code",
   "execution_count": null,
   "id": "be4c1f35",
   "metadata": {},
   "outputs": [],
   "source": [
    "id_loc = config.get('fields', 'location_id')\n",
    "df_loc = df_loc.set_index(id_loc, drop=False)\n",
    "print(f'Campo de índice del DataFrame de localizaciones de muestreo = {id_loc}')"
   ]
  },
  {
   "cell_type": "markdown",
   "id": "c4e736df",
   "metadata": {},
   "source": [
    "¿Son únicas las claves dadas por el campo *location_label* en el fichero *config.ini*?"
   ]
  },
  {
   "cell_type": "code",
   "execution_count": null,
   "id": "d072c35e",
   "metadata": {},
   "outputs": [],
   "source": [
    "label = config.get('fields', 'location_label')\n",
    "num_locatizaciones = len(df_loc.index)\n",
    "num_distinct_labels = np.unique(df_loc.loc[:, label].to_numpy()).size\n",
    "if num_locatizaciones != num_distinct_labels:\n",
    "    print(f'Las etiquetas se repiten. Tenemos un problema con este campo.')\n",
    "    u, c = np.unique(df_loc.loc[:, label].to_numpy(), return_counts=True)\n",
    "    dup_el = u[c > 1]\n",
    "    dup_count = c[c > 1]\n",
    "    print(f'Hay {dup_el.size} etiquetas repetidas.')\n",
    "    for e, n in zip(dup_el, dup_count):\n",
    "        print(f'\"{e}\" -> {n} veces repetido')\n",
    "        \n",
    "    df_dup = df_loc[df_loc['PS_ID'] == dup_el[0]]\n",
    "    print('*' * 50)\n",
    "    print(f'PS_ID repetido = {dup_el[0]}')\n",
    "    print(df_dup.loc[:, ['X', 'Y', 'Lon_ETRS89', 'Lat_ETRS89']])"
   ]
  },
  {
   "cell_type": "markdown",
   "id": "56b00270",
   "metadata": {},
   "source": [
    "Información sobre el objeto GeoDataFrame generado tras la lectura del fichero."
   ]
  },
  {
   "cell_type": "code",
   "execution_count": null,
   "id": "a5421c26",
   "metadata": {},
   "outputs": [],
   "source": [
    "print(df_loc.info())"
   ]
  },
  {
   "cell_type": "markdown",
   "id": "64fb4abb",
   "metadata": {},
   "source": [
    "Si existe un campo llamado *GEOMETRY*, lo elimino"
   ]
  },
  {
   "cell_type": "code",
   "execution_count": null,
   "id": "48024ac0",
   "metadata": {},
   "outputs": [],
   "source": [
    "if 'GEOMETRY' in df_loc.columns:\n",
    "    df_loc = df_loc.drop('GEOMETRY', axis=1)"
   ]
  },
  {
   "cell_type": "markdown",
   "id": "899603ff",
   "metadata": {},
   "source": [
    "Echamos un vistazo al DataFrame."
   ]
  },
  {
   "cell_type": "code",
   "execution_count": null,
   "id": "af7d1d4d",
   "metadata": {},
   "outputs": [],
   "source": [
    "df_loc.head()"
   ]
  },
  {
   "cell_type": "markdown",
   "id": "b02030be",
   "metadata": {},
   "source": [
    "Queremos toda información en el sistema de referencia proyectado, dado por el parámetro 'projected' del fichero *config.ini*. Comprobamos entonces los parámetros que determinan los nombres de los campos que representan la longitud (*location_lon_proj*) y latitud (*location_lat_proj*) en coordenadas proyectadas y creamos el *GeoDataFrame* correspondiente. De no estar definidas esas coordenadas, usamos las dadas en el sistema de referencia geográfico ((*location_lon_geo*. *location_lat_geo*)) para generar el *GeoDataFrame* y reproyectamos al sistema de referencia proyectado dado."
   ]
  },
  {
   "cell_type": "code",
   "execution_count": null,
   "id": "067ff24a",
   "metadata": {},
   "outputs": [],
   "source": [
    "gdf_loc = None\n",
    "if len(config.get('fields', 'location_lon_proj')) > 0:\n",
    "    print(f\"Campos de coordenadas proyectadas de entrada: ({config.get('fields', 'location_lon_proj')}, {config.get('fields', 'location_lat_proj')})\")\n",
    "    geometry = gpd.points_from_xy(df_loc.loc[:,config.get('fields', 'location_lon_proj')], \\\n",
    "                                 df_loc.loc[:,config.get('fields', 'location_lat_proj')])\n",
    "    gdf_loc = gpd.GeoDataFrame(df_loc, crs=config.get('crs', 'location_projected'), geometry=geometry)\n",
    "else:\n",
    "    print(f\"Campos de coordenadas geográficas de entrada: ({config.get('fields', 'location_lon_geo')}, {config.get('fields', 'location_lat_geo')})\")\n",
    "    geometry = gpd.points_from_xy(df_loc.loc[:,config.get('fields', 'location_lon_geo')], \\\n",
    "                              df_loc.loc[:,config.get('fields', 'location_lat_geo')])\n",
    "    gdf_loc = gpd.GeoDataFrame(df_loc, crs=config.get('crs', 'location_geographic'), geometry=geometry)\n",
    "\n",
    "# Reproyectamos la información a un sistema de coordenadas proyectadas común a todos los conjuntos \n",
    "# de datos de entrada del notebook: queremos trabajar con unidades de metros (m)\n",
    "gdf_loc = gdf_loc.to_crs(config.get('crs', 'final_projected'))"
   ]
  },
  {
   "cell_type": "markdown",
   "id": "3e9e2d6d",
   "metadata": {},
   "source": [
    "Muestro de las primeras 5 filas del objeto *GeoDataFrame*. Ahora, se ha creado una nueva columna **geometry** que define cada objeto representado en los registros del fichero (puntos). Vienen dados en el sistema de referencia proyectado."
   ]
  },
  {
   "cell_type": "code",
   "execution_count": null,
   "id": "29186d1d",
   "metadata": {},
   "outputs": [],
   "source": [
    "print(gdf_loc.head())"
   ]
  },
  {
   "cell_type": "markdown",
   "id": "b49304eb",
   "metadata": {},
   "source": [
    "Genero una gráfica con las ubicaciones del fichero."
   ]
  },
  {
   "cell_type": "code",
   "execution_count": null,
   "id": "554f455f",
   "metadata": {},
   "outputs": [],
   "source": [
    "plt.rcParams[\"figure.figsize\"] = (15,12.5)\n",
    "\n",
    "ax = gdf_loc.plot(color='cyan', edgecolor='blue', alpha=0.1, marker='o', label='Ubicación de muestreo')\n",
    "cx.add_basemap(ax, crs=gdf_loc.crs.to_string())\n",
    "plt.legend(loc='upper left', prop={'size':20}, markerscale=3)\n",
    "plt.xlabel(f'Longitud ({config.get(\"crs\", \"final_projected\")})')\n",
    "plt.ylabel(f'Latitud ({config.get(\"crs\", \"final_projected\")})')\n",
    "plt.title('Localizaciones de los puntos de muestreo')\n",
    "output_dir = os.path.abspath(config.get('directories', 'output_dir'))\n",
    "if not os.path.exists(output_dir):\n",
    "    try:\n",
    "        os.makedirs(output_dir)\n",
    "    except IOError:\n",
    "        print(f'ERROR: No se pudo crear el directorio de salida \"{output_dir}\".')\n",
    "        print('Genérelo de forma manual y vuelva a ejecutar esta celda.')\n",
    "plot_out = os.path.join(output_dir, 'localizaciones_de_muestreo.jpg')\n",
    "print(f'Output plot path = \"{plot_out}\"')\n",
    "plt.savefig(plot_out, dpi=300)\n",
    "\n",
    "plt.show()"
   ]
  },
  {
   "cell_type": "markdown",
   "id": "598f5c21",
   "metadata": {},
   "source": [
    "## 2. Precipitationes"
   ]
  },
  {
   "cell_type": "markdown",
   "id": "a93e91dd",
   "metadata": {},
   "source": [
    "La medida de las precipitaciones se obtiene a partir de la URL proporcionada a través de la\n",
    "variable *precipitations_url*, en el fichero *config.ini*. Por defecto, tiene asignada la dirección web de un fichero empaquetado y comprimido en formato *.tar.gz*."
   ]
  },
  {
   "cell_type": "markdown",
   "id": "2767237c",
   "metadata": {},
   "source": [
    "Tras descomprimir y desempaquetar pordemos acceder al conteido. Básicamente se trata de: \n",
    "\n",
    "- Un fichero con información detallada al respecto del contenido del paquete descargado (**README.txt**).\n",
    "- las ubicaciones de los puntos de la malla distribuida de forma uniforme por el territorio nacional en cuadrículas de 5x5 km (**maestro_red_hr_SPAIN.txt**), y \n",
    "- las medidas de precipitación interpolada en esos nodos (**pcp_red_SPAIN_1951-2020.txt**). La resolución temporal es diaria. Ha sido registrada en el periodo de 1951 a 2020. Se espera que estos datos se vayan actualizando en la web de la AEMET.\n"
   ]
  },
  {
   "cell_type": "markdown",
   "id": "b6736e6a",
   "metadata": {},
   "source": [
    "###  2.1. Carga de las ubicaciones de los nodos de la malla de precipitación"
   ]
  },
  {
   "cell_type": "code",
   "execution_count": null,
   "id": "1279d9f6",
   "metadata": {},
   "outputs": [],
   "source": [
    "precipitations_url = config.get('urls', 'precipitations_url')\n",
    "data_dir = config.get('directories', 'data_dir')\n",
    "\n",
    "root, name_prec = os.path.split(precipitations_url)\n",
    "precip_path = os.path.abspath(os.path.join(data_dir, name_prec))\n",
    "\n",
    "print(f\"Fichero de precipitaciones: '{precip_path}'\")"
   ]
  },
  {
   "cell_type": "markdown",
   "id": "52a883e6",
   "metadata": {},
   "source": [
    "Si no se ha hecho ya, descargamos y descomprimimos el fichero de precipitaciones."
   ]
  },
  {
   "cell_type": "code",
   "execution_count": null,
   "id": "647808dc",
   "metadata": {},
   "outputs": [],
   "source": [
    "res_get = 1\n",
    "\n",
    "if not os.path.exists(precip_path):\n",
    "    print(f\"Descargando: '{precipitations_url}'. Por favor, espere.\")\n",
    "    res_ges = get_url(precipitations_url, data_dir)\n",
    "\n",
    "if res_get > 0:\n",
    "    # descomprimo el fichero\n",
    "    precip_compress = tarfile.open(precip_path)\n",
    "    precip_compress.extractall(data_dir)\n",
    "    precip_compress.close()\n",
    "    \n",
    "# gunzip fichero de datos\n",
    "patron = os.path.abspath(os.path.join(data_dir, '*.txt.gz'))\n",
    "print(f'Buscando ficheros con el patron: {patron}')\n",
    "precip_gz = glob.glob(patron)\n",
    "precip_path = None\n",
    "if len(precip_gz):\n",
    "    print(f'Fichero a desempaquetar: {precip_gz[0]}')\n",
    "    precip_path = precip_gz[0][:-3]\n",
    "    if not os.path.exists(precip_path):\n",
    "        with gzip.open(precip_gz[0], 'rb') as f_in:\n",
    "            with open(precip_path, 'wb') as f_out:\n",
    "                shutil.copyfileobj(f_in, f_out)"
   ]
  },
  {
   "cell_type": "markdown",
   "id": "ab798291",
   "metadata": {},
   "source": [
    "El fichero maestro es el que contiene la ubicación de los nodos de la malla de precipitaciones."
   ]
  },
  {
   "cell_type": "code",
   "execution_count": null,
   "id": "4a90c757",
   "metadata": {},
   "outputs": [],
   "source": [
    "master_path = os.path.abspath(os.path.join(data_dir, 'maestro_red_hr_SPAIN.txt'))\n",
    "df_master_precip = pd.read_csv(master_path, header=None, delim_whitespace=True)"
   ]
  },
  {
   "cell_type": "markdown",
   "id": "d54fe55c",
   "metadata": {},
   "source": [
    "Las coordenadas de los nodos de precipitación interpolada vienen dada en el sistema de referencia geográfico."
   ]
  },
  {
   "cell_type": "code",
   "execution_count": null,
   "id": "b4213daa",
   "metadata": {},
   "outputs": [],
   "source": [
    "# Establecemos los nombres de columnas del fichero, ya que inicialmente no tiene\n",
    "df_master_precip.columns = ['ID', config.get('fields', 'precip_lon_geo'), config.get('fields', 'precip_lat_geo'), 'height']"
   ]
  },
  {
   "cell_type": "code",
   "execution_count": null,
   "id": "7a55c861",
   "metadata": {},
   "outputs": [],
   "source": [
    "# Establecemos como índice del Dataframe creado al campo 'ID'\n",
    "df_master_precip = df_master_precip.set_index('ID', drop=False)\n",
    "\n",
    "# Mostramos el *DataFrame*\n",
    "print(df_master_precip)"
   ]
  },
  {
   "cell_type": "markdown",
   "id": "9437024a",
   "metadata": {},
   "source": [
    "*precip_lon_geo* y *precip_lat_geo* vienen dados en coordenadas geográficas. Generamos el correspondiente *GeoDataFrame* a partir de esas columnas."
   ]
  },
  {
   "cell_type": "code",
   "execution_count": null,
   "id": "3e8921b9",
   "metadata": {},
   "outputs": [],
   "source": [
    "geometry = gpd.points_from_xy(df_master_precip.longitude, df_master_precip.latitude)\n",
    "gdf_master_precip = gpd.GeoDataFrame(df_master_precip, crs=config.get('crs', 'precip_geographic'), geometry=geometry)"
   ]
  },
  {
   "cell_type": "markdown",
   "id": "a318dad0",
   "metadata": {},
   "source": [
    "El índice del *GeoDataFrame* es el campo que hemos llamado 'ID' (el mismo que el del *DataFrame* que le da su origen)."
   ]
  },
  {
   "cell_type": "code",
   "execution_count": null,
   "id": "6864a91a",
   "metadata": {},
   "outputs": [],
   "source": [
    "print(gdf_master_precip.info())"
   ]
  },
  {
   "cell_type": "code",
   "execution_count": null,
   "id": "11d441fc",
   "metadata": {},
   "outputs": [],
   "source": [
    "print(gdf_master_precip.head())"
   ]
  },
  {
   "cell_type": "markdown",
   "id": "9c5ad95e",
   "metadata": {},
   "source": [
    "El sistema de referencia geográfico (parámetro *precip_geograhic* del fichero *config.ini*) viene dado en grados. Tengo que cambiar a otro sistema de referencia proyectado (parámetro *final_projected* del fichero *config.ini*) para obtener medidas de ubicación y distancias en metros (m). Al final se plotean de nuevo los puntos para comprobar que la proyección se ha hecho correctamente."
   ]
  },
  {
   "cell_type": "code",
   "execution_count": null,
   "id": "2e57e324",
   "metadata": {},
   "outputs": [],
   "source": [
    "crs_proyectado = config.get('crs', 'final_projected')\n",
    "gdf_master_precip = gdf_master_precip.to_crs(crs_proyectado)\n",
    "\n",
    "print(f'gdf_loc.crs = {gdf_loc.crs}')\n",
    "print(f'gdf_master_precip.crs = {gdf_master_precip.crs}')"
   ]
  },
  {
   "cell_type": "markdown",
   "id": "bfa03b30",
   "metadata": {},
   "source": [
    "Muestro la malla y los puntos de muestreo sobre los que vamos a trabajar."
   ]
  },
  {
   "cell_type": "code",
   "execution_count": null,
   "id": "852f29e5",
   "metadata": {},
   "outputs": [],
   "source": [
    "plt.rcParams[\"figure.figsize\"] = (15,12.5)\n",
    "\n",
    "ax = gdf_loc.plot(color='blue', alpha=0.3, marker='.', markersize=10, label='Ubicación de muestreo')\n",
    "gdf_master_precip.plot(ax=ax, color='red', edgecolor='red', marker='.', markersize=2, label='Nodo de precipitación')\n",
    "\n",
    "cx.add_basemap(ax, crs=gdf_loc.crs.to_string(), alpha=0.5)\n",
    "plt.legend(loc='lower right', prop={'size':20}, markerscale=6)\n",
    "plt.xlabel(f\"Longitud ({config.get('crs', 'final_projected')}\", fontsize=17)\n",
    "plt.ylabel(f\"Latitud ({config.get('crs', 'final_projected')})\", fontsize=17)\n",
    "plt.title('Puntos de muestreo y nodos de precipitación después de la proyección realizada', fontsize=20)\n",
    "output_dir = os.path.abspath(config.get('directories', 'output_dir'))\n",
    "plot_out = os.path.join(output_dir, 'todos_nodos_precipitacion_y_localizaciones_de_muestreo.jpg')\n",
    "plt.savefig(plot_out, dpi=300)\n",
    "\n",
    "plt.show()"
   ]
  },
  {
   "cell_type": "markdown",
   "id": "299d7a64",
   "metadata": {},
   "source": [
    "**Limito la malla al cuadrado determinado por las coordenadas extremas de las localizaciones de muestreo.**"
   ]
  },
  {
   "cell_type": "code",
   "execution_count": null,
   "id": "e511776c",
   "metadata": {},
   "outputs": [],
   "source": [
    "big_radius = float(config.get('buffer', 'radius')) + 1000 # amplío el tamaño de buffer propuesto en 1000 m alrededor de cada punto\n",
    "gdf_loc[\"buffered\"] = gdf_loc.buffer(big_radius) \n",
    "\n",
    "# cambio la geometría por defecto de puntos a buffers\n",
    "gdf_loc = gdf_loc.set_geometry(\"buffered\")\n",
    "\n",
    "# coordenadas extremas de los buffers\n",
    "minx, miny, maxx, maxy = gdf_loc.total_bounds\n",
    "\n",
    "print('Área de interés:')\n",
    "print(f'\\t(minx, miny, maxx, maxy) = ({minx}, {miny}, {maxx}, {maxy})')\n",
    "\n",
    "# establezco de nuevo la geometría por defecto a la columna de puntos\n",
    "gdf_loc = gdf_loc.set_geometry(\"geometry\")"
   ]
  },
  {
   "cell_type": "markdown",
   "id": "0d19bed3",
   "metadata": {},
   "source": [
    "Genero un polígono a partir de los límites obtenidos en el punto anterior"
   ]
  },
  {
   "cell_type": "code",
   "execution_count": null,
   "id": "7de2a611",
   "metadata": {},
   "outputs": [],
   "source": [
    "pol_geom = Polygon([(minx, miny), (minx, maxy), (maxx, maxy), (maxx, miny), (minx, miny)])\n",
    "polygon = gpd.GeoDataFrame(index=[0], crs= config.get('crs', 'final_projected'), geometry=[pol_geom])  "
   ]
  },
  {
   "cell_type": "markdown",
   "id": "4121fc57",
   "metadata": {},
   "source": [
    "Obtengo los puntos de la malla dentro de los límites"
   ]
  },
  {
   "cell_type": "code",
   "execution_count": null,
   "id": "6f78ff85",
   "metadata": {},
   "outputs": [],
   "source": [
    "inside = gdf_master_precip.within(polygon.geometry[0])\n",
    "print(f'Número de nodos de precipitación dentro del área límite = {inside.sum()}')"
   ]
  },
  {
   "cell_type": "code",
   "execution_count": null,
   "id": "14e3f720",
   "metadata": {},
   "outputs": [],
   "source": [
    "# filtro la malla de precipitaciones al área de interés\n",
    "gdf_reduced_grid = gdf_master_precip[inside]\n",
    "\n",
    "# reproyecto a ETRS 25830\n",
    "gdf_reduced_grid = gdf_reduced_grid.to_crs(config.get('crs', 'final_projected'))\n",
    "print(f'Número de nodos = {len(gdf_reduced_grid.index)}')\n",
    "print(gdf_reduced_grid.head())"
   ]
  },
  {
   "cell_type": "markdown",
   "id": "b4345784",
   "metadata": {},
   "source": [
    "Genero de nuevo una gráfica con el subconjunto de nodos de precipitación y las estaciones de muestreo."
   ]
  },
  {
   "cell_type": "code",
   "execution_count": null,
   "id": "373ed01d",
   "metadata": {},
   "outputs": [],
   "source": [
    "plt.rcParams[\"figure.figsize\"] = (15,12.5)\n",
    "\n",
    "ax = gdf_loc.plot(color='yellow', edgecolor='orange', marker='o', alpha=0.3, label='Ubicación de muestreo')\n",
    "\n",
    "# gdf_reduced_grid.plot(ax=ax, marker='+')\n",
    "\n",
    "gdf_reduced_grid.plot(ax=ax, color='red', marker='+', label='Nodo de precipitación')\n",
    "cx.add_basemap(ax, crs=gdf_loc.crs.to_string())\n",
    "plt.legend(loc='lower right', prop={'size':20}, markerscale=3)\n",
    "plt.xlabel(f'Longitud ({config.get(\"crs\", \"final_projected\")})')\n",
    "plt.ylabel(f'Latitud ({config.get(\"crs\", \"final_projected\")})')\n",
    "plt.title('Nodos de precipitación en área de muestreo')\n",
    "output_dir = os.path.abspath(config.get('directories', 'output_dir'))\n",
    "plot_out = os.path.join(output_dir, 'nodos_precipitacion_En_area_de_muestreo.jpg')\n",
    "plt.savefig(plot_out, dpi=300)\n",
    "\n",
    "plt.show()"
   ]
  },
  {
   "cell_type": "markdown",
   "id": "2342428e",
   "metadata": {},
   "source": [
    "Zoom a las ubicaciones y su posición relativa a la malla de precipitaciones"
   ]
  },
  {
   "cell_type": "code",
   "execution_count": null,
   "id": "9725fbbe",
   "metadata": {},
   "outputs": [],
   "source": [
    "plt.rcParams[\"figure.figsize\"] = (15,12.5)\n",
    "\n",
    "ax = gdf_reduced_grid.plot(color='red', marker='+', label='Nodo de precipitación')\n",
    "\n",
    "# gdf_reduced_grid.plot(ax=ax, marker='+')\n",
    "\n",
    "gdf_loc.plot(ax=ax, color='cyan', edgecolor='magenta', marker='.', alpha=0.5, label='Ubicación de muestreo')\n",
    "cx.add_basemap(ax, crs=gdf_loc.crs.to_string())\n",
    "plt.legend(loc='lower right', prop={'size':20}, markerscale=3)\n",
    "\n",
    "ax.set_xlim(600000, 640000)\n",
    "ax.set_ylim(4160000, 4180000)\n",
    "\n",
    "plt.xlabel(f'Longitud ({config.get(\"crs\", \"final_projected\")})')\n",
    "plt.ylabel(f'Latitud ({config.get(\"crs\", \"final_projected\")})')\n",
    "plt.title('Nodos de precipitación y puntos de muestreo')\n",
    "plot_out = os.path.join(output_dir, 'zoom_distribucion_nodos_precipitacion_y_puntos_muestreo.jpg')\n",
    "plt.savefig(plot_out, dpi=300)\n",
    "\n",
    "plt.show()\n",
    "\n"
   ]
  },
  {
   "cell_type": "code",
   "execution_count": null,
   "id": "865db634",
   "metadata": {},
   "outputs": [],
   "source": [
    "# Comprobación del SR del GeoDataFrame\n",
    "print(gdf_reduced_grid.crs)"
   ]
  },
  {
   "cell_type": "code",
   "execution_count": null,
   "id": "2a68a8a7",
   "metadata": {},
   "outputs": [],
   "source": [
    "print(f'Tamaño del DataFrame de lugares de muestreo (filas, columnas) = {gdf_loc.shape}')"
   ]
  },
  {
   "cell_type": "code",
   "execution_count": null,
   "id": "1f2973fd",
   "metadata": {},
   "outputs": [],
   "source": [
    "# Campos que forman parte del GeoDataFrame de nodos de precipitación dentro del área de estudio\n",
    "print(gdf_reduced_grid.info())"
   ]
  },
  {
   "cell_type": "code",
   "execution_count": null,
   "id": "d54e3afb",
   "metadata": {},
   "outputs": [],
   "source": [
    "print(gdf_reduced_grid.head())"
   ]
  },
  {
   "cell_type": "markdown",
   "id": "548d0290",
   "metadata": {},
   "source": [
    "### 2.2. Lectura del fichero con medidas de precipitación"
   ]
  },
  {
   "cell_type": "markdown",
   "id": "3b52f035",
   "metadata": {},
   "source": [
    "Leo la primera fila del fichero de precipitación. Está ubicado en el directorio *data_dir* dado por el fichero *config.ini*. El nombre del fichero es el establecido por el paquete descargado."
   ]
  },
  {
   "cell_type": "code",
   "execution_count": null,
   "id": "5e9df911",
   "metadata": {},
   "outputs": [],
   "source": [
    "precip_path = os.path.abspath(os.path.join(data_dir, 'pcp_red_SPAIN_1951-2020.txt'))\n",
    "\n",
    "precipitacion = open(precip_path)\n",
    "first = precipitacion.readline()\n",
    "print(f'Numero de campos que contiene la primera línea = {len(first.split())}')"
   ]
  },
  {
   "cell_type": "markdown",
   "id": "98856219",
   "metadata": {},
   "source": [
    "Leo todo el contenido del fichero. Dado que se trata de un fichero enorme (más de 3 GB), su lectura puede llevar minutos. Es por eso que si se lee por primera vez, se almacena en formato binario. Eso acelera de forma dramática las siguientes lecturas, pasando de minutos a segundos. \n",
    "\n",
    "Se muestra el tiempo que se ha tardado en realizar esta operación."
   ]
  },
  {
   "cell_type": "code",
   "execution_count": null,
   "id": "17952c05",
   "metadata": {},
   "outputs": [],
   "source": [
    "\n",
    "binary_precip_path = os.path.abspath(os.path.join(data_dir, 'pcp_red_SPAIN_1951-2020.feather'))\n",
    "\n",
    "if not os.path.exists(binary_precip_path):\n",
    "    # Reading text format file\n",
    "    ini_time = int(time.time())\n",
    "    df_precip = pd.read_csv(precip_path, header=None, delim_whitespace=True)\n",
    "    final_time = int(time.time())\n",
    "    print(f'Tiempo de lectura de fichero de texto de precipitaciones = {final_time - ini_time} s')\n",
    "    # saving dataframe to binary format for efficiency purposes\n",
    "    # Almaceno en fichero con formato binario (tipo 'feather') el DataFrame de precipitaciones\n",
    "    df_precip.columns = ['fecha'] + [str(i) for i in range(1, df_precip.shape[1])]\n",
    "    ini_time = int(time.time())\n",
    "    df_precip.to_feather(binary_precip_path)\n",
    "    final_time = int(time.time())\n",
    "    print(f'Tiempo invertido en la escritura de la información de precipitación en fichero binario = {final_time - ini_time} s')\n",
    "    print(f'Fichero binario = \"{binary_precip_path}\"')\n",
    "else:\n",
    "    # Lectura del fichero binario de precipitaciones\n",
    "    ini_time = int(time.time())\n",
    "    df_precip = pd.read_feather(binary_precip_path)\n",
    "    final_time = int(time.time())\n",
    "    print(f'Tiempo invertido en la lectura del fichero de precipitaciones en formato binario = {final_time - ini_time} s')\n"
   ]
  },
  {
   "cell_type": "code",
   "execution_count": null,
   "id": "2d4e25e2",
   "metadata": {},
   "outputs": [],
   "source": [
    "# Información sobre el fichero de precipitaciones cargado en memoria\n",
    "print(df_precip.info())"
   ]
  },
  {
   "cell_type": "code",
   "execution_count": null,
   "id": "f7dac32f",
   "metadata": {},
   "outputs": [],
   "source": [
    "print(df_precip.head())"
   ]
  },
  {
   "cell_type": "code",
   "execution_count": null,
   "id": "dbf70b1c",
   "metadata": {},
   "outputs": [],
   "source": [
    "print('Cabecera del fichero')\n",
    "print(df_precip.columns.values)"
   ]
  },
  {
   "cell_type": "markdown",
   "id": "c03f686b",
   "metadata": {},
   "source": [
    "Cambio los nombres de las columnas de este dataframe. Se supone que cada una de ellas representa la medida de uno de los nodos de precipitación dados por el fichero maestro. Ese dato es numérico."
   ]
  },
  {
   "cell_type": "code",
   "execution_count": null,
   "id": "39d570b0",
   "metadata": {},
   "outputs": [],
   "source": [
    "df_precip.columns = [df_precip.columns.values[0]] + [int(col_name) for col_name in df_precip.columns.values[1:]]"
   ]
  },
  {
   "cell_type": "code",
   "execution_count": null,
   "id": "bdaf843d",
   "metadata": {},
   "outputs": [],
   "source": [
    "print('Nueva cabecera del fichero')\n",
    "print(df_precip.columns.values)"
   ]
  },
  {
   "cell_type": "markdown",
   "id": "6f837369",
   "metadata": {},
   "source": [
    "Proceso el campo 'fecha' del DataFrame para tratarlo como tal"
   ]
  },
  {
   "cell_type": "code",
   "execution_count": null,
   "id": "0047255a",
   "metadata": {},
   "outputs": [],
   "source": [
    "df_precip['fecha'] = pd.to_datetime(df_precip['fecha'], format='%Y%m%d')"
   ]
  },
  {
   "cell_type": "code",
   "execution_count": null,
   "id": "c36652c8",
   "metadata": {
    "scrolled": true
   },
   "outputs": [],
   "source": [
    "# la primera columna es la fecha\n",
    "print(df_precip.loc[[0,1,2,3],['fecha']])"
   ]
  },
  {
   "cell_type": "markdown",
   "id": "9c8b9c01",
   "metadata": {},
   "source": [
    "Fíjese en que ahora la fecha es un campo de typo *datetime*."
   ]
  },
  {
   "cell_type": "code",
   "execution_count": null,
   "id": "e12aadfb",
   "metadata": {},
   "outputs": [],
   "source": [
    "df_precip.info()"
   ]
  },
  {
   "cell_type": "markdown",
   "id": "2e6623ea",
   "metadata": {},
   "source": [
    "### 2.3. Asociación de precipitación a cada punto de muestreo"
   ]
  },
  {
   "cell_type": "markdown",
   "id": "0475a361",
   "metadata": {},
   "source": [
    "Trabajaremos punto por punto. Es decir, **para cada localización de muestreo**, buscaremos\n",
    "\n",
    "- los **nodos de precipitación en la zona de influencia del buffer definido alrededor de cada punto de muestreo**, y\n",
    "- el **nodo de preiciptación más cercano**."
   ]
  },
  {
   "cell_type": "markdown",
   "id": "084f29a1",
   "metadata": {},
   "source": [
    "#### 2.3.1. Estimación mediante la media ponderada al inverso de la distancia a los nodos de precipitación más cercanos"
   ]
  },
  {
   "cell_type": "code",
   "execution_count": null,
   "id": "04870bce",
   "metadata": {},
   "outputs": [],
   "source": [
    "rad_buffer_m = float(config.get('buffer', 'radius'))\n",
    "precip_date = config.get('fields', 'precip_date')\n",
    "print(f'Radio de influencia de cada punto de muestreo = {rad_buffer_m} m (valor de tipo {type(rad_buffer_m)})')\n",
    "measures_buffer, pairs_buffer = get_precipitations(gdf_loc, gdf_reduced_grid, df_precip, mode='buffer', \\\n",
    "                                                   radius_m=rad_buffer_m, field_date=precip_date)\n"
   ]
  },
  {
   "cell_type": "code",
   "execution_count": null,
   "id": "61db9d27",
   "metadata": {},
   "outputs": [],
   "source": [
    "sns.set_theme(style=\"whitegrid\")\n",
    "num_nodos = [len(n.to_list()) for n in pairs_buffer['index_grid']]\n",
    "sns.histplot(num_nodos)\n",
    "plt.title('Nodos de precipitación asociados a cada lugar de muestreo', fontsize=22)\n",
    "plt.xlabel(\"Número de nodos de precipitación asociados (#)\", fontsize=17)\n",
    "plt.ylabel(\"Lugares de muestreo (#)\", fontsize=17)\n",
    "output_dir = os.path.abspath(config.get('directories', 'output_dir'))\n",
    "plot_out = os.path.join(output_dir, 'histograma_asociacion_nodos_precipitacion-puntos_muestreo.jpg')\n",
    "plt.savefig(plot_out, dpi=300)\n",
    "\n",
    "plt.show()"
   ]
  },
  {
   "cell_type": "markdown",
   "id": "89f17202",
   "metadata": {},
   "source": [
    "Me hago con la columna que identifica cada estación mediante una cadena de texto 'location_label', para mostrar explícitamente información sobre el punto de muestreo. Los valores de este campo **deben ser únicos** porque se generará un fichero de salida cuyas columnas tengan los valores de este campo."
   ]
  },
  {
   "cell_type": "code",
   "execution_count": null,
   "id": "ce837af8",
   "metadata": {},
   "outputs": [],
   "source": [
    "key_label = config.get('fields', 'location_label')\n",
    "old_column_names = list(measures_buffer.keys())\n",
    "# print(old_column_names)\n",
    "new_column_names = [old_column_names[0]] + gdf_loc.loc[pairs_buffer['index_loc'], key_label].to_list()\n",
    "\n",
    "print(f\"len(old_column_names) = {len(old_column_names)}, len(new_column_names) = {len(new_column_names)}\")\n",
    "print(f\"Número de campos únicos de entrada (location_ID : {config.get('fields', 'location_ID')}) = {len(np.unique(np.array(old_column_names)))}\")\n",
    "print(f\"Número de campos únicos de salida (location_label : {config.get('fields', 'location_label')}) = {len(np.unique(np.array(new_column_names)))}\")\n",
    "map_col_names = {k:v for k, v in zip(old_column_names, new_column_names)}"
   ]
  },
  {
   "cell_type": "markdown",
   "id": "50f6cf8e",
   "metadata": {},
   "source": [
    "Generamos el DataFrame de medidas de precipitación interpolada a partir del diccionario devuelto como primer parámetro de la función *get_precipitations* en modo *buffer* (cálculo de precipitaciones usando la media ponderada del inverso de la distancia a los nodos dentro de la zona de influencia de cada punto de muestreo)."
   ]
  },
  {
   "cell_type": "code",
   "execution_count": null,
   "id": "8b1b8d9a",
   "metadata": {
    "scrolled": true
   },
   "outputs": [],
   "source": [
    "df_measures_buffer = pd.DataFrame.from_dict(measures_buffer)"
   ]
  },
  {
   "cell_type": "markdown",
   "id": "aa8beff1",
   "metadata": {},
   "source": [
    "Renombramos las columnas a los valores del campo apuntado por el parámetro *location_label*."
   ]
  },
  {
   "cell_type": "code",
   "execution_count": null,
   "id": "5d92a643",
   "metadata": {},
   "outputs": [],
   "source": [
    "df_measures_buffer.rename(columns=map_col_names, inplace=True)"
   ]
  },
  {
   "cell_type": "code",
   "execution_count": null,
   "id": "8bc119ec",
   "metadata": {},
   "outputs": [],
   "source": [
    "print(f'dimensiones de measures_buffer = {df_measures_buffer.shape}')\n",
    "print(df_measures_buffer.info())"
   ]
  },
  {
   "cell_type": "markdown",
   "id": "99e5bed2",
   "metadata": {},
   "source": [
    "Comprobamos las medidas de ia interpolación con el inverso de la distancia para el primer lugar de muestreo (el dado por el índice 0)"
   ]
  },
  {
   "cell_type": "code",
   "execution_count": null,
   "id": "26b2ae87",
   "metadata": {},
   "outputs": [],
   "source": [
    "print(f\"Indice del lugar de muestreo considerado = {pairs_buffer['index_loc'][0]}\")\n",
    "print(f\"Nodos de precipitación considerados = {pairs_buffer['index_grid'][0].to_list()}\")\n",
    "print(f\"Distancias entre lugar de muestreo y nodos de precipitación = {pairs_buffer['distance'][0]} (en m)\")"
   ]
  },
  {
   "cell_type": "markdown",
   "id": "c1f8a36a",
   "metadata": {},
   "source": [
    "Medidas de precipitación para los nodos relacionados con el lugar de muestreo de índice 0."
   ]
  },
  {
   "cell_type": "code",
   "execution_count": null,
   "id": "e6f437aa",
   "metadata": {},
   "outputs": [],
   "source": [
    "ind_precip = config.get('fields', 'precip_date')\n",
    "indexes_grid = pairs_buffer['index_grid'][0].to_list()\n",
    "print(df_precip.loc[:, [ind_precip] + indexes_grid])"
   ]
  },
  {
   "cell_type": "markdown",
   "id": "6bd3b2fc",
   "metadata": {},
   "source": [
    "Resultado de la interpolación de la precipitación en el lugar de muestreo de índice 0, ponderada por el inverso de la distancia a los nodos de precipitación con los que se relaciona."
   ]
  },
  {
   "cell_type": "code",
   "execution_count": null,
   "id": "31f140c8",
   "metadata": {},
   "outputs": [],
   "source": [
    "ind_precip = config.get('fields', 'precip_date')\n",
    "indexes_grid = pairs_buffer['index_grid'][0].to_list()\n",
    "print(df_measures_buffer.loc[:, [ind_precip, map_col_names[pairs_buffer['index_loc'][0]]]])"
   ]
  },
  {
   "cell_type": "markdown",
   "id": "e4efd892",
   "metadata": {},
   "source": [
    "**Almaceno el fichero de interpolación de precipitación ponderada por la distancia en un fichero CSV**"
   ]
  },
  {
   "cell_type": "markdown",
   "id": "3892b76d",
   "metadata": {},
   "source": [
    "La ruta de destino de este fichero tiene por directorio de salida *output_dir*, y por nombre de fichero *out_interp_precip*.\n",
    "\n",
    "También se muestra el tiempo que le lleva al ordenador guardar ese fichero."
   ]
  },
  {
   "cell_type": "code",
   "execution_count": null,
   "id": "948d3de2",
   "metadata": {},
   "outputs": [],
   "source": [
    "# ruta del fichero de salida\n",
    "output_dir = os.path.abspath(config.get('directories', 'output_dir'))\n",
    "precipitaciones_ponderado_out = os.path.join(output_dir, config.get('paths', 'out_interp_precip'))\n",
    "print(f'Ruta al fichero de precipitaciones = \"{precipitaciones_ponderado_out}\"')\n",
    "\n",
    "ini_time = time.time()\n",
    "df_measures_buffer.to_csv(precipitaciones_ponderado_out, float_format='%.2f', index=False, header=True)\n",
    "final_time = time.time()\n",
    "print(f'Tiempo empleado para almacenar el fichero del histórico de precipitaciones = {int(final_time - ini_time)} s')"
   ]
  },
  {
   "cell_type": "markdown",
   "id": "e723b95c",
   "metadata": {},
   "source": [
    "### 2.3. Estimo la precipitacion de cada punto de muestreo mediante asociación al nodo de precipitación más cercano"
   ]
  },
  {
   "cell_type": "code",
   "execution_count": null,
   "id": "2b948b77",
   "metadata": {},
   "outputs": [],
   "source": [
    "rad_buffer_m = float(config.get('buffer', 'radius'))\n",
    "# Atención al parámetro de la función: mode='closest'\n",
    "#     define el modo de asociación de lugar de muestreo-nodo de precipitación más cercano\n",
    "measures_closest, pairs_closest = get_precipitations(gdf_loc, gdf_reduced_grid, df_precip, mode='closest', \\\n",
    "                                     radius_m=rad_buffer_m, field_date=config.get('fields', 'precip_date'))\n"
   ]
  },
  {
   "cell_type": "code",
   "execution_count": null,
   "id": "d9aa5a92",
   "metadata": {},
   "outputs": [],
   "source": [
    "df_muestreo_precipitacion_cercano = pd.DataFrame.from_dict(measures_closest)\n",
    "print(df_muestreo_precipitacion_cercano.info())"
   ]
  },
  {
   "cell_type": "code",
   "execution_count": null,
   "id": "a157aef3",
   "metadata": {},
   "outputs": [],
   "source": [
    "print(df_muestreo_precipitacion_cercano.head())"
   ]
  },
  {
   "cell_type": "code",
   "execution_count": null,
   "id": "7e94de2b",
   "metadata": {},
   "outputs": [],
   "source": [
    "# Reasigno el nombre a las columnas.\n",
    "\n",
    "key_label = config.get('fields', 'location_label')\n",
    "old_column_names = list(df_muestreo_precipitacion_cercano.columns.values)\n",
    "\n",
    "new_column_names = [old_column_names[0]] + gdf_loc.loc[pairs_closest['index_loc'], key_label].to_list()\n",
    "#print(len(old_column_names), np.unique(np.array(new_column_names)).size)\n",
    "\n",
    "#print(f'len(old_column_names) = {len(old_column_names)}, len(new_column_names) = {len(new_column_names)}')\n",
    "map_col_names = {k:v for k, v in zip(old_column_names, new_column_names)}"
   ]
  },
  {
   "cell_type": "code",
   "execution_count": null,
   "id": "1a567012",
   "metadata": {},
   "outputs": [],
   "source": [
    "df_muestreo_precipitacion_cercano.rename(columns=map_col_names, inplace=True) # future immplementation for location_label"
   ]
  },
  {
   "cell_type": "code",
   "execution_count": null,
   "id": "50cd5775",
   "metadata": {},
   "outputs": [],
   "source": [
    "ind_precip = config.get('fields', 'precip_date')\n",
    "df_muestreo_precipitacion_cercano = df_muestreo_precipitacion_cercano.set_index(ind_precip, drop=False)\n",
    "print(df_muestreo_precipitacion_cercano.head())"
   ]
  },
  {
   "cell_type": "markdown",
   "id": "9fffb85c",
   "metadata": {},
   "source": [
    "**Y ya tengo el fichero que piden de salida para las precipitaciones**."
   ]
  },
  {
   "cell_type": "markdown",
   "id": "33e85f1d",
   "metadata": {},
   "source": [
    "Ahora que están identificadas las estaciones y su nodo de malla de precipitaciones más cercanas, hay que generar el fichero de salida con formato\n",
    "\n",
    "*DATE,location_label1,location_label2...,location_labelN*\n",
    "\n",
    "Donde cada *location_labelx* corresponde a las medidas de precipitaciones para el lugar de muestreo indentificado con esa etiqueta."
   ]
  },
  {
   "cell_type": "code",
   "execution_count": null,
   "id": "4889bf3b",
   "metadata": {},
   "outputs": [],
   "source": [
    "# ruta del fichero de salida\n",
    "output_dir = os.path.abspath(config.get('directories', 'output_dir'))\n",
    "precipitaciones_cercanas_out = os.path.join(output_dir, config.get('paths', 'out_closest_prepip'))\n",
    "print(f'Ruta al fichero de precipitaciones = \"{precipitaciones_cercanas_out}\"')\n",
    "\n",
    "# Evalúo el tiempo que tarda en escribir el fichero de salida\n",
    "ini_time = int(time.time())\n",
    "df_muestreo_precipitacion_cercano.to_csv(precipitaciones_cercanas_out, float_format='%.2f', index=False, header=True)\n",
    "final_time= int(time.time())\n",
    "print(f'Tiempo de escritura del fichero \"{precipitaciones_cercanas_out}\" = {final_time - ini_time} s')"
   ]
  },
  {
   "cell_type": "code",
   "execution_count": null,
   "id": "5fa421e5",
   "metadata": {},
   "outputs": [],
   "source": [
    "df_related_precip_closest = pd.DataFrame.from_dict(pairs_closest)\n",
    "print(df_related_precip_closest.iloc[5:10, :])"
   ]
  },
  {
   "cell_type": "code",
   "execution_count": null,
   "id": "c25f54a4",
   "metadata": {},
   "outputs": [],
   "source": [
    "print(f'Estructura del DataFrame de puntos asociados (registros, campos) = {df_related_precip_closest.shape}')"
   ]
  },
  {
   "cell_type": "markdown",
   "id": "21ca8fb8",
   "metadata": {},
   "source": [
    "**Tengo que comprobar las asociaciones mostrando algunas de ellas en el mapa**"
   ]
  },
  {
   "cell_type": "markdown",
   "id": "ce217034",
   "metadata": {},
   "source": [
    "Determino el número de lugares de muestreo asociados a cada nodo de precipitación."
   ]
  },
  {
   "cell_type": "code",
   "execution_count": null,
   "id": "fb268ad3",
   "metadata": {},
   "outputs": [],
   "source": [
    "res_precip_closest = df_related_precip_closest['index_grid'].value_counts()\n",
    "sorted_res_precip_closest = res_precip_closest.sort_index()\n",
    "#res.columns=['id','count']\n",
    "print(sorted_res_precip_closest)"
   ]
  },
  {
   "cell_type": "markdown",
   "id": "dcbc69b4",
   "metadata": {},
   "source": [
    "Diagrama de barras que muestra el número de localizaciones de muestreo asociados a cada nodo de precipitación."
   ]
  },
  {
   "cell_type": "code",
   "execution_count": null,
   "id": "2dcda9b8",
   "metadata": {},
   "outputs": [],
   "source": [
    "sorted_res_precip_closest.plot.bar()\n",
    "#plt.hist(pairs['distance_m'], bins=15)\n",
    "plt.title('Nodos de precipitación más cercanos a los lugares de muestreo', fontsize=20)\n",
    "plt.xlabel('ID de nodo de precipitación', fontsize=17)\n",
    "plt.ylabel('Número de localizaciones de muestreo relacionadas', fontsize=17)\n",
    "plot_out = os.path.join(output_dir, 'localizaciones_asociadas_a_nodos_de_preciptacion_mas_cercanos.jpg')\n",
    "plt.savefig(plot_out, dpi=300)\n",
    "\n",
    "plt.show()"
   ]
  },
  {
   "cell_type": "code",
   "execution_count": null,
   "id": "242f55cd",
   "metadata": {},
   "outputs": [],
   "source": [
    "df_1868 = df_related_precip_closest[df_related_precip_closest['index_grid'] == 1868]\n",
    "print(f'Número de localizaciones asociadas al ID 1868 del nodo de precipitaciones = {len(df_1868.index)}')"
   ]
  },
  {
   "cell_type": "code",
   "execution_count": null,
   "id": "5e1aee9e",
   "metadata": {},
   "outputs": [],
   "source": [
    "print(df_1868)"
   ]
  },
  {
   "cell_type": "markdown",
   "id": "adda12f0",
   "metadata": {},
   "source": [
    "**1. Verificación espacial**"
   ]
  },
  {
   "cell_type": "code",
   "execution_count": null,
   "id": "9c80f308",
   "metadata": {},
   "outputs": [],
   "source": [
    "plt.rcParams[\"figure.figsize\"] = (15,12.5)\n",
    "\n",
    "ax = gdf_reduced_grid.plot(color='red', marker='+', markersize=50, label='Nodo de precipitación')\n",
    "\n",
    "gdf_loc.plot(ax=ax, color='yellow', edgecolor='orange', marker='.', alpha=0.6, label='Ubicación de muestreo')\n",
    "\n",
    "# En verde: ubicaciones de los puntos de muestreo más próximos a nodo de malla con ID=1868\n",
    "gdf_loc.loc[df_1868.index].plot(ax=ax, color='green', marker='o', alpha=0.3, label='Muestreo asociado a nodo 1868')\n",
    "\n",
    "plt.text(613000, 4163700, 'Nodo 1868', color='red', size=20)\n",
    "# zoom a estas coordenadas proyectadas\n",
    "ax.set_xlim(605000, 620000)\n",
    "ax.set_ylim(4157500, 4170000)\n",
    "\n",
    "cx.add_basemap(ax, crs=gdf_loc.crs.to_string(), alpha=0.5)\n",
    "plt.legend(loc='upper left', prop={'size':15}, markerscale=3)\n",
    "plt.xlabel(f'Longitud ({config.get(\"crs\", \"final_projected\")})')\n",
    "plt.ylabel(f'Latitud ({config.get(\"crs\", \"final_projected\")})')\n",
    "plt.title('Puntos de muestreo más próximos al nodo de precipitación con ID=1868')\n",
    "output_dir = os.path.abspath(config.get('directories', 'output_dir'))\n",
    "plot_out = os.path.join(output_dir, 'localizaciones_mas_proximas_al_nodo_de_precipitacion_1868.jpg')\n",
    "plt.savefig(plot_out, dpi=300)\n",
    "\n",
    "plt.show()"
   ]
  },
  {
   "cell_type": "markdown",
   "id": "a7269d17",
   "metadata": {},
   "source": [
    "**2. Verificación del valor de precipitaciones asociadas**"
   ]
  },
  {
   "cell_type": "code",
   "execution_count": null,
   "id": "813da7c7",
   "metadata": {},
   "outputs": [],
   "source": [
    "# Primer nodo de muestreo asociado a este subconjunto\n",
    "id_grid = int(df_1868.iloc[0,:].loc[['index_grid']])\n",
    "id_loc = int(df_1868.iloc[0,:].loc[['index_loc']])\n",
    "print(id_grid)\n",
    "print(id_loc)\n",
    "print(df_1868.iloc[0,:])"
   ]
  },
  {
   "cell_type": "code",
   "execution_count": null,
   "id": "42f30ca4",
   "metadata": {},
   "outputs": [],
   "source": [
    "# precipitacion asociada a este id_loc\n",
    "print(df_muestreo_precipitacion_cercano.loc[:, id_loc].to_numpy())\n",
    "\n",
    "# precipitaciones registradas en el fichero de precipitaciones\n",
    "print(f'Precipitación registrada en el nodo identificado por: {id_grid}')\n",
    "print(df_precip.loc[:, id_grid].to_numpy())\n",
    "\n",
    "print('Medidas de precipitación para todos los lugares de muestreo asociados al nodo de precipitación 1868...')\n",
    "for ind in df_1868.loc[:,'index_loc'].to_list():\n",
    "    print(f'{ind} -> {df_muestreo_precipitacion_cercano.loc[:, ind].to_numpy()}')\n",
    "    "
   ]
  },
  {
   "cell_type": "markdown",
   "id": "93f8036c",
   "metadata": {},
   "source": [
    "Mostramos los nodos de la malla de precipitaciones seleccionados"
   ]
  },
  {
   "cell_type": "code",
   "execution_count": null,
   "id": "832a9f45",
   "metadata": {},
   "outputs": [],
   "source": [
    "# Grid de nodos cercanos\n",
    "plt.rcParams[\"figure.figsize\"] = (15,12.5)\n",
    "\n",
    "unique_grid_nodes = np.unique(df_related_precip_closest.index_grid)\n",
    "print(f'Número de nodos de malla cercanos = {unique_grid_nodes.size}')\n",
    "\n",
    "ax = gdf_loc.plot(color='yellow', edgecolor='orange', marker='o', alpha=0.3, label='puntos muestreo')\n",
    "gdf_reduced_grid.loc[unique_grid_nodes].plot(ax=ax, color='red', marker='+', markersize=50, alpha=1, label='Nodo de precipitación asociado a punto de muestreo')\n",
    "cx.add_basemap(ax, crs=gdf_loc.crs.to_string())\n",
    "plt.legend(loc='upper left', prop={'size':15}, markerscale=2)\n",
    "plt.title('Nodos de precipitación más próximos a los puntos de muestreo')\n",
    "plt.xlabel(f'Longitud ({config.get(\"crs\", \"final_projected\")})')\n",
    "plt.ylabel(f'Latitud ({config.get(\"crs\", \"final_projected\")})')\n",
    "output_dir = os.path.abspath(config.get('directories', 'output_dir'))\n",
    "plot_out = os.path.join(output_dir, 'nodos_de_precipitacion_seleccionados.jpg')\n",
    "plt.savefig(plot_out, dpi=300)\n",
    "\n",
    "plt.show()"
   ]
  },
  {
   "cell_type": "markdown",
   "id": "6a7c44e4",
   "metadata": {},
   "source": [
    "**Estadísticas sobre las distancias entre localizaciones de medida y nodos de la malla de precipitaciones**"
   ]
  },
  {
   "cell_type": "code",
   "execution_count": null,
   "id": "29308764",
   "metadata": {},
   "outputs": [],
   "source": [
    "dist = df_related_precip_closest['distance'].values\n",
    "message = '(media, desviación estándar, mediana, máximo, mínimo) = ({:.2f}, {:.2f}, {:.2f}, {:.2f}, {:.2f}) m'\n",
    "print(message.format(dist.mean(), dist.std(), np.median(dist), dist.max(), dist.min()))"
   ]
  },
  {
   "cell_type": "code",
   "execution_count": null,
   "id": "ae7437d1",
   "metadata": {},
   "outputs": [],
   "source": [
    "sns.set_theme(style=\"whitegrid\")\n",
    "sns.histplot(dist, bins=20)\n",
    "plt.title('Distancia (m) entre localización de medición y nodo de la malla de precipitaciones', fontsize=20)\n",
    "plt.xlabel(\"Distancia (m)\")\n",
    "output_dir = os.path.abspath(config.get('directories', 'output_dir'))\n",
    "plot_out = os.path.join(output_dir, 'histograma_distancias_nodos_precipitacion-puntos_muestreo.jpg')\n",
    "plt.savefig(plot_out, dpi=300)\n",
    "\n",
    "plt.show()"
   ]
  },
  {
   "cell_type": "code",
   "execution_count": null,
   "id": "cc1412cb",
   "metadata": {},
   "outputs": [],
   "source": [
    "# gráfica de caja y bigotes\n",
    "\n",
    "sns.boxplot(data=df_related_precip_closest, y='distance')\n",
    "plt.title('Distancia (m) entre localizaciones de muestreo y nodos de precipitación', fontsize=20)\n",
    "plt.ylabel('Distancia [m]')\n",
    "output_dir = os.path.abspath(config.get('directories', 'output_dir'))\n",
    "plot_out = os.path.join(output_dir, 'boxplot_distancias_nodo_precipitacion-puntos_muestreo.jpg')\n",
    "plt.savefig(plot_out, dpi=300)"
   ]
  },
  {
   "cell_type": "code",
   "execution_count": null,
   "id": "2e8b6a14",
   "metadata": {},
   "outputs": [],
   "source": [
    "# gráfica de violín\n",
    "\n",
    "sns.violinplot(data=df_related_precip_closest, y='distance')\n",
    "plt.title('Distancia (m) entre localizaciones de muestreo y nodos de precipitación', fontsize=20)\n",
    "plt.ylabel('Distancia [m]')\n",
    "output_dir = os.path.abspath(config.get('directories', 'output_dir'))\n",
    "plot_out = os.path.join(output_dir, 'violinplot_distancias_nodo_precipitacion-puntos_muestreo.jpg')\n",
    "plt.savefig(plot_out, dpi=300)\n",
    "\n",
    "plt.show()"
   ]
  },
  {
   "cell_type": "markdown",
   "id": "8c3bd50e",
   "metadata": {},
   "source": [
    "**Agrego esta información al dataframe de puntos de muestreo**"
   ]
  },
  {
   "cell_type": "code",
   "execution_count": null,
   "id": "f25839bc",
   "metadata": {},
   "outputs": [],
   "source": [
    "print(gdf_reduced_grid)"
   ]
  },
  {
   "cell_type": "code",
   "execution_count": null,
   "id": "b6c4eafc",
   "metadata": {},
   "outputs": [],
   "source": [
    "# nueva información\n",
    "grid_ids = df_related_precip_closest['index_grid']\n",
    "print(grid_ids)\n",
    "print(len(grid_ids))\n",
    "new_fields = {'ID_nodo_precip': df_related_precip_closest['index_grid'].values, \n",
    "              'dist_nodo_precip_m': df_related_precip_closest['distance'].values}\n",
    "new_df = pd.DataFrame.from_dict(new_fields)\n",
    "# Información y muestra de los datos a agregar al DataFrame de puntos de muestreo (df_loc)\n",
    "print(new_df.info())\n",
    "print(new_df.head())\n",
    "print(f'\\nNúmero de líneas del dataframe = {len(new_df.index)}\\n')\n",
    "\n",
    "if 'ID_nodo_precip' not in df_loc.columns:\n",
    "    # agregado de nueva información al DataFrame de puntos de muestreo\n",
    "    df_loc = pd.concat([df_loc, new_df], axis=1, join='inner')\n",
    "    \n",
    "# Verificación\n",
    "print(df_loc.info())"
   ]
  },
  {
   "cell_type": "markdown",
   "id": "4cd05eed",
   "metadata": {},
   "source": [
    "## 3. Piezometría"
   ]
  },
  {
   "cell_type": "markdown",
   "id": "344f8ce8",
   "metadata": {},
   "source": [
    "La piezometría es accesible a través de una URL que apunta a un fichero alojado en la web del **Ministerio de Transición Ecológica y Reto Demográfico** (parámetro *piezometry_url* del fichero *config.ini*). Está comprimido en formato ZIP. Contiene una base de datos *MS Access* con dos pestañas:\n",
    "\n",
    "- La primera contiene, entre otras, la ubicación de los puntos en los que se toman las medida. \n",
    "- La segunda contiene la estación piezométrica, la medida registrada y fecha."
   ]
  },
  {
   "cell_type": "markdown",
   "id": "db326929",
   "metadata": {},
   "source": [
    "Vamos a homogeneizar los formatos de los ficheros de entrada. Para ello, generaremos un fichero CSV por cada una de las tablas contenidas en la base de datos MS Access de la piezometría."
   ]
  },
  {
   "cell_type": "code",
   "execution_count": null,
   "id": "387344e4",
   "metadata": {},
   "outputs": [],
   "source": [
    "data_dir = os.path.abspath(config.get('directories', 'data_dir'))\n",
    "piezometers_path = os.path.join(data_dir, 'piezometers.csv') # CSV con información sobre los puntos de medida de piezometría\n",
    "levels_path = os.path.join(data_dir, 'levels_piezometry.csv') # CSV con el resultado de las mediciones miezométricas"
   ]
  },
  {
   "cell_type": "code",
   "execution_count": null,
   "id": "9689ecb4",
   "metadata": {},
   "outputs": [],
   "source": [
    "# Descarga del fichero de datos piezométricos\n",
    "piezometry_url = config.get('urls', 'piezometry_url')\n",
    "prefix, name = os.path.split(piezometry_url)\n",
    "piezo_path = os.path.join(data_dir, name)\n",
    "\n",
    "piezo_res = 1\n",
    "if not os.path.exists(piezo_path):\n",
    "    print(f\"Downloading '{piezometry_url}'. Please wait...\")\n",
    "    piezo_res = get_url(piezometry_url, data_dir)\n",
    "else:\n",
    "    print(f'\"{piezo_path}\" already downloaded.')"
   ]
  },
  {
   "cell_type": "code",
   "execution_count": null,
   "id": "46029102",
   "metadata": {},
   "outputs": [],
   "source": [
    "df_piezometers = None\n",
    "df_levels = None\n",
    "\n",
    "# Si existen los CSV de piezometros y niveles piezometricos, los cargamos en memoria\n",
    "if os.path.exists(piezometers_path):\n",
    "    df_piezometers = pd.read_csv(piezometers_path)\n",
    "if os.path.exists(levels_path):\n",
    "    df_levels = pd.read_csv(levels_path)\n",
    "    \n",
    "# Si no existe uno de los dos ficheros y la descarga del ZIP de piezometría se ha \n",
    "# llevado a cabo sin problemas, descomprimimos, leemos la base de datos y \n",
    "# almacenamos cada tabla en sendos dataframes.\n",
    "if (df_levels is None or df_piezometers is None) and piezo_res > 0:\n",
    "    # Descompresión del fichero\n",
    "    root, name = os.path.split(piezometry_url)\n",
    "    piezo_path = os.path.join(data_dir, name)\n",
    "\n",
    "    if unzip(piezo_path, data_dir) == 0:\n",
    "        # Lectura del fichero de base de datos\n",
    "        piezo_db_path = glob.glob(os.path.join(data_dir, '*.mdb'))\n",
    "        df_piezometers, df_levels = read_db_piezometry(piezo_db_path[0])"
   ]
  },
  {
   "cell_type": "code",
   "execution_count": null,
   "id": "2cd59047",
   "metadata": {},
   "outputs": [],
   "source": [
    "ind_piezometer = config.get('fields', 'piezo_id')\n",
    "print(f'Piezometer index field = \"{ind_piezometer}\"')\n",
    "df_piezometers = df_piezometers.set_index(ind_piezometer, drop=False)\n",
    "df_levels = df_levels.set_index(ind_piezometer, drop=False)\n",
    "piezo_date = config.get('fields', 'piezo_date')\n",
    "print(f'Piezometer date field = \"{piezo_date}\"')\n",
    "if piezo_date in df_levels.columns:\n",
    "    print(f'Renaming piezometer date field from \"{piezo_date}\" to \"fecha\" in levels set of data.')\n",
    "    df_levels.rename(columns={'FechaP':'fecha'}, inplace=True)"
   ]
  },
  {
   "cell_type": "code",
   "execution_count": null,
   "id": "51752891",
   "metadata": {},
   "outputs": [],
   "source": [
    "print(df_piezometers.info())"
   ]
  },
  {
   "cell_type": "code",
   "execution_count": null,
   "id": "9be9f565",
   "metadata": {},
   "outputs": [],
   "source": [
    "df_piezometers.head()"
   ]
  },
  {
   "cell_type": "code",
   "execution_count": null,
   "id": "30abde3e",
   "metadata": {},
   "outputs": [],
   "source": [
    "df_levels.info()"
   ]
  },
  {
   "cell_type": "code",
   "execution_count": null,
   "id": "8db77e5e",
   "metadata": {},
   "outputs": [],
   "source": [
    "df_levels.head()"
   ]
  },
  {
   "cell_type": "markdown",
   "id": "b8072104",
   "metadata": {},
   "source": [
    "**Guardo los datos de piezometría en fichero CSV**"
   ]
  },
  {
   "cell_type": "code",
   "execution_count": null,
   "id": "8c9c08d6",
   "metadata": {},
   "outputs": [],
   "source": [
    "df_piezometers.to_csv(piezometers_path, index=False)\n",
    "df_levels.to_csv(levels_path, index=False)"
   ]
  },
  {
   "cell_type": "markdown",
   "id": "271abd7f",
   "metadata": {},
   "source": [
    "#### Asociación entre punto de muestreo y piezómetro más próximo"
   ]
  },
  {
   "cell_type": "markdown",
   "id": "dbbd29ed",
   "metadata": {},
   "source": [
    "Se tomará como distancia límite el campo *radius* (en metros) de la seccion *buffer* del fichero *config.ini* para que se considere esa asociación como válida."
   ]
  },
  {
   "cell_type": "code",
   "execution_count": null,
   "id": "8a345948",
   "metadata": {},
   "outputs": [],
   "source": [
    "# Creo el campo de geometría para los datos de los piezómetros\n",
    "\n",
    "# Presupongo sistema de referencia geográfico\n",
    "piezo_lon = config.get('fields', 'piezo_lon_geo')\n",
    "piezo_lat = config.get('fields', 'piezo_lat_geo')\n",
    "piezo_crs = crs=config.get('crs', 'piezo_geographic')\n",
    "\n",
    "if len(config.get('fields', 'piezo_lon_proj')) > 0:  \n",
    "    # Si hay coordenadas proyectadas, cambio la informacion anterior\n",
    "    print('Usando coordenadas proyectadas en piezometría.')\n",
    "    piezo_lon = config.get('fields', 'piezo_lon_proj')\n",
    "    piezo_lat = config.get('fields', 'piezo_lat_proj')\n",
    "    piezo_crs = config.get('crs', 'piezo_projected')\n",
    "\n",
    "print(f'Cooordinates fields for piezometer locations = ({piezo_lon}, {piezo_lat})')\n",
    "geom = gpd.points_from_xy(df_piezometers[piezo_lon], df_piezometers[piezo_lat], crs=piezo_crs)"
   ]
  },
  {
   "cell_type": "code",
   "execution_count": null,
   "id": "10b5fe27",
   "metadata": {},
   "outputs": [],
   "source": [
    "# Genero el objeto GeoDataFrame\n",
    "gdf_piezometers = gpd.GeoDataFrame(df_piezometers, geometry=geom)\n",
    "ind_piezometer = config.get('fields', 'piezo_id')\n",
    "print(f'Piezometers GeoDataframe index field = \"{ind_piezometer}\"')\n",
    "gdf_piezometers = gdf_piezometers.set_index(ind_piezometer, drop=False)"
   ]
  },
  {
   "cell_type": "markdown",
   "id": "cd0e4bd4",
   "metadata": {},
   "source": [
    "Proyecto al sistema de referencia proyectado común a todas las entradas de datos."
   ]
  },
  {
   "cell_type": "code",
   "execution_count": null,
   "id": "c76076e3",
   "metadata": {},
   "outputs": [],
   "source": [
    "gdf_piezometers.to_crs(config.get('crs', 'final_projected'), inplace=True)"
   ]
  },
  {
   "cell_type": "code",
   "execution_count": null,
   "id": "9643f5fa",
   "metadata": {},
   "outputs": [],
   "source": [
    "print(gdf_piezometers.info())"
   ]
  },
  {
   "cell_type": "code",
   "execution_count": null,
   "id": "6467b6d6",
   "metadata": {},
   "outputs": [],
   "source": [
    "gdf_piezometers.head()"
   ]
  },
  {
   "cell_type": "markdown",
   "id": "31b16fac",
   "metadata": {},
   "source": [
    "Comprobación de la unicidad del campo *piezo_label*."
   ]
  },
  {
   "cell_type": "code",
   "execution_count": null,
   "id": "a5e508dc",
   "metadata": {},
   "outputs": [],
   "source": [
    "# Comprobación de sistema de referencia de los puntos de muestreo\n",
    "print(f'SR de los puntos de muestreo = {gdf_loc.crs}')\n",
    "\n",
    "# Y de la ubicación de los piezómetros\n",
    "print(f'SR de los puntos de muestreo = {gdf_piezometers.crs}')"
   ]
  },
  {
   "cell_type": "markdown",
   "id": "d5d9e5f2",
   "metadata": {},
   "source": [
    "**Muestro ubicaciones**"
   ]
  },
  {
   "cell_type": "code",
   "execution_count": null,
   "id": "be97f515",
   "metadata": {},
   "outputs": [],
   "source": [
    "plt.rcParams[\"figure.figsize\"] = (15,12.5)\n",
    "\n",
    "ax = gdf_piezometers.plot(color='red', marker='.', markersize=10, label=\"Piezómetros\")\n",
    "\n",
    "gdf_loc.plot(ax=ax, color='blue', alpha=0.3, marker='.', markersize=10, label=\"Muestreos\")\n",
    "cx.add_basemap(ax, crs=gdf_loc.crs.to_string())\n",
    "plt.legend(loc='lower right', prop={'size':20}, markerscale=3)\n",
    "plt.title('Piezómetros registrados y puntos de muestreo', fontsize=20)\n",
    "plt.xlabel(f'Longitud ({config.get(\"crs\", \"final_projected\")})', fontsize=17)\n",
    "plt.ylabel(f'Latitud ({config.get(\"crs\", \"final_projected\")})', fontsize=17)\n",
    "output_dir = os.path.abspath(config.get('directories', 'output_dir'))\n",
    "plot_out = os.path.join(output_dir, 'piezometros_registrados_y_puntos_de_muestreo.jpg')\n",
    "plt.savefig(plot_out, dpi=300)\n",
    "\n",
    "plt.show()"
   ]
  },
  {
   "cell_type": "markdown",
   "id": "dc3ebf97",
   "metadata": {},
   "source": [
    "Limito la malla al cuadrado determinado por las coordenadas extremas de las localizaciones de muestreo."
   ]
  },
  {
   "cell_type": "code",
   "execution_count": null,
   "id": "02283134",
   "metadata": {},
   "outputs": [],
   "source": [
    "big_radius = float(config.get('buffer', 'radius')) + 1000 # amplío el tamaño de buffer propuesto en 1000 m alrededor de cada punto\n",
    "gdf_loc[\"buffered\"] = gdf_loc.buffer(big_radius) \n",
    "\n",
    "# cambio la geometría por defecto de puntos a buffers\n",
    "gdf_loc = gdf_loc.set_geometry(\"buffered\")\n",
    "\n",
    "# coordenadas extremas de los buffers\n",
    "minx, miny, maxx, maxy = gdf_loc.total_bounds\n",
    "\n",
    "print('Área de interés:')\n",
    "print(f'\\t(minx, miny, maxx, maxy) = ({minx}, {miny}, {maxx}, {maxy})')\n",
    "\n",
    "# establezco de nuevo la geometría por defecto a la columna de puntos\n",
    "gdf_loc = gdf_loc.set_geometry(\"geometry\")\n"
   ]
  },
  {
   "cell_type": "markdown",
   "id": "c91e8605",
   "metadata": {},
   "source": [
    "Genero un polígono a partir de los límites obtenidos en el punto anterior"
   ]
  },
  {
   "cell_type": "code",
   "execution_count": null,
   "id": "260d114d",
   "metadata": {},
   "outputs": [],
   "source": [
    "pol_geom = Polygon([(minx, miny), (minx, maxy), (maxx, maxy), (maxx, miny), (minx, miny)])\n",
    "polygon = gpd.GeoDataFrame(index=[0], crs= config.get('crs', 'final_projected'), geometry=[pol_geom])"
   ]
  },
  {
   "cell_type": "code",
   "execution_count": null,
   "id": "203e4366",
   "metadata": {},
   "outputs": [],
   "source": [
    "inside = gdf_piezometers.within(polygon.geometry[0])\n",
    "print(f'Número de piezómetros en los límites de las localizaciones de muestreo = {inside.sum()}')"
   ]
  },
  {
   "cell_type": "code",
   "execution_count": null,
   "id": "82b46493",
   "metadata": {},
   "outputs": [],
   "source": [
    "# Zoom a la zona de muestreo\n",
    "gdf_reduced_piezometers = gdf_piezometers[inside]\n",
    "gdf_reduced_piezometers = gdf_reduced_piezometers.to_crs(config.get('crs', 'final_projected'))"
   ]
  },
  {
   "cell_type": "code",
   "execution_count": null,
   "id": "0913369a",
   "metadata": {},
   "outputs": [],
   "source": [
    "plt.rcParams[\"figure.figsize\"] = (15,12.5)\n",
    "\n",
    "ax = gdf_reduced_piezometers.plot(color='red', marker='+', label='Ubicaciones de piezómetros')\n",
    "\n",
    "gdf_loc.plot(ax=ax, color='yellow', edgecolor='orange', alpha=0.3, marker='.', label='Estaciones de muestreo')\n",
    "cx.add_basemap(ax, crs=gdf_loc.crs.to_string())\n",
    "plt.legend(loc='upper left', prop={'size':15}, markerscale=3)\n",
    "plt.title('Piezómetros localizados en la zona de muestreo', fontsize=20)\n",
    "plt.xlabel(f'Longitud ({config.get(\"crs\", \"final_projected\")})', fontsize=17)\n",
    "plt.ylabel(f'Latitud ({config.get(\"crs\", \"final_projected\")})', fontsize=17)\n",
    "output_dir = os.path.abspath(config.get('directories', 'output_dir'))\n",
    "plot_out = os.path.join(output_dir, 'piezometros_en_zona_de_muestreo.jpg')\n",
    "plt.savefig(plot_out, dpi=300)\n",
    "\n",
    "plt.show()"
   ]
  },
  {
   "cell_type": "code",
   "execution_count": null,
   "id": "04fd2b37",
   "metadata": {},
   "outputs": [],
   "source": [
    "df_levels.head()"
   ]
  },
  {
   "cell_type": "code",
   "execution_count": null,
   "id": "093d709c",
   "metadata": {},
   "outputs": [],
   "source": [
    "rad_buffer_m = float(config.get('buffer', 'radius'))\n",
    "measures_piezo, related_piezo = get_piezometry(gdf_loc, gdf_reduced_piezometers, df_levels, radius_m=rad_buffer_m)"
   ]
  },
  {
   "cell_type": "code",
   "execution_count": null,
   "id": "b25073dc",
   "metadata": {},
   "outputs": [],
   "source": [
    "df_related_piezo = pd.DataFrame.from_dict(related_piezo)"
   ]
  },
  {
   "cell_type": "code",
   "execution_count": null,
   "id": "82a13dae",
   "metadata": {},
   "outputs": [],
   "source": [
    "print(f'Número de medidas de piezometría obtenidas = {len(measures_piezo.keys())}\\n')\n",
    "\n",
    "for i in range(len(related_piezo['index_grid'])):\n",
    "    print(f\"(i_loc, i_grid, distance, num_datos_piezo)-> ({related_piezo['index_loc'][i]}, {related_piezo['index_grid'][i]}, {related_piezo['distance'][i]}, {len(measures_piezo[related_piezo['index_loc'][i]])})\")\n"
   ]
  },
  {
   "cell_type": "markdown",
   "id": "ac995687",
   "metadata": {},
   "source": [
    "Estadísticas de las distancias entre localizaciones de muestreo y piezómetros cercanos"
   ]
  },
  {
   "cell_type": "code",
   "execution_count": null,
   "id": "80163e38",
   "metadata": {},
   "outputs": [],
   "source": [
    "dist = df_related_piezo['distance'].values\n",
    "message = '(num_datos, media, desviación estándar, mediana, máximo, mínimo) = ({}, {:.2f}, {:.2f}, {:.2f}, {:.2f}, {:.2f}) m'\n",
    "print(message.format(dist.size, dist.mean(), dist.std(), np.median(dist), dist.max(), dist.min()))"
   ]
  },
  {
   "cell_type": "code",
   "execution_count": null,
   "id": "6aeca321",
   "metadata": {},
   "outputs": [],
   "source": [
    "index_closest_piezometers = np.unique(df_related_piezo.index_grid.values)\n",
    "print(f'Número de piezómetros seleccionados = {len(index_closest_piezometers)}')"
   ]
  },
  {
   "cell_type": "markdown",
   "id": "aea46183",
   "metadata": {},
   "source": [
    "Imprimo las ubicaciones de esos piezometros"
   ]
  },
  {
   "cell_type": "code",
   "execution_count": null,
   "id": "69743bb6",
   "metadata": {},
   "outputs": [],
   "source": [
    "plt.rcParams[\"figure.figsize\"] = (15,12.5)\n",
    "\n",
    "ax = gdf_loc.plot(color='yellow', edgecolor='orange', alpha=0.1, marker='o', label='Estaciones de muestreo')\n",
    "gdf_reduced_piezometers.plot(ax=ax, color='gray', marker='+', markersize=30, label='Ubicaciones de piezómetros')\n",
    "\n",
    "gdf_reduced_piezometers.loc[index_closest_piezometers,:].plot(ax=ax, color='red', marker='+', markersize=70, label='Piezómetros seleccionados')\n",
    "cx.add_basemap(ax, crs=gdf_loc.crs.to_string())\n",
    "plt.legend(loc='upper left', prop={'size':15}, markerscale=2)\n",
    "plt.title('Piezómetros asociados a los puntos de muestreo', fontsize=20)\n",
    "plt.xlabel(f'Longitud ({config.get(\"crs\", \"final_projected\")})', fontsize=17)\n",
    "plt.ylabel(f'Latitud ({config.get(\"crs\", \"final_projected\")})', fontsize=17)\n",
    "output_dir = os.path.abspath(config.get('directories', 'output_dir'))\n",
    "plot_out = os.path.join(output_dir, 'piezometros_seleccionados.jpg')\n",
    "plt.savefig(plot_out, dpi=300)\n",
    "\n",
    "plt.show()\n",
    "\n"
   ]
  },
  {
   "cell_type": "markdown",
   "id": "bc46d1ad",
   "metadata": {},
   "source": [
    "Veamos qué puntos con datos de piezometría son las que más frecuentemente se relacionan con los puntos de muestreo."
   ]
  },
  {
   "cell_type": "code",
   "execution_count": null,
   "id": "ad77df24",
   "metadata": {},
   "outputs": [],
   "source": [
    "res = df_related_piezo['index_grid'].value_counts()\n",
    "sorted_res = res.sort_index()\n",
    "#res.columns=['id','count']\n",
    "print(sorted_res)"
   ]
  },
  {
   "cell_type": "code",
   "execution_count": null,
   "id": "e3db6688",
   "metadata": {},
   "outputs": [],
   "source": [
    "sorted_res.plot.bar()\n",
    "#plt.hist(pairs['distance_m'], bins=15)\n",
    "plt.title('Estaciones piezométricas más usadas', fontsize=20)\n",
    "plt.xlabel('IDPIEZ', fontsize=17)\n",
    "plt.ylabel('Localizaciones de muestreo', fontsize=17)\n",
    "plot_out = os.path.join(output_dir, 'localizaciones_asociadas_a_piezometros.jpg')\n",
    "plt.savefig(plot_out, dpi=300)\n",
    "plt.show()"
   ]
  },
  {
   "cell_type": "code",
   "execution_count": null,
   "id": "2785340e",
   "metadata": {},
   "outputs": [],
   "source": [
    "gdf_reduced_piezometers.loc[[2015]]"
   ]
  },
  {
   "cell_type": "markdown",
   "id": "c29e806d",
   "metadata": {},
   "source": [
    "Muestro las localizaciones de muestreo asociadas a la estación peizométrica más relacionada (index_grid = 2015)"
   ]
  },
  {
   "cell_type": "code",
   "execution_count": null,
   "id": "e8fc3bf0",
   "metadata": {},
   "outputs": [],
   "source": [
    "plt.rcParams[\"figure.figsize\"] = (15,12.5)\n",
    "\n",
    "ax = gdf_loc.plot(color='gray', edgecolor='gray', alpha=0.1, marker='o', label='Otras estaciones de muestreo')\n",
    "\n",
    "selected_muestreo = df_related_piezo['index_grid'] == 2015\n",
    "indexes = np.unique(df_related_piezo[selected_muestreo]['index_loc'].values)\n",
    "\n",
    "gdf_loc.loc[indexes,:].plot(ax=ax, color='magenta', alpha=0.1, marker='o', label='Estaciones de muestreo 2015')\n",
    "cx.add_basemap(ax, crs=gdf_loc.crs.to_string(), alpha=0.5)\n",
    "gdf_reduced_piezometers[gdf_reduced_piezometers.index != 2015].plot(ax=ax, color='orange', marker='+', markersize=70, label='Otros piezómetros seleccionados')\n",
    "gdf_reduced_piezometers.loc[[2015]].plot(ax=ax, color='blue', marker='+', markersize=50, label='Piezómetro con ID = 2015')\n",
    "\n",
    "plt.legend(loc='upper left', prop={'size':15}, markerscale=2)\n",
    "plt.title('Localizaciones asociadas al piezómetro con ID=2015', fontsize=20)\n",
    "plt.xlabel(f'Longitud ({config.get(\"crs\", \"final_projected\")})', fontsize=17)\n",
    "plt.ylabel(f'Latitud ({config.get(\"crs\", \"final_projected\")})', fontsize=17)\n",
    "output_dir = os.path.abspath(config.get('directories', 'output_dir'))\n",
    "plot_out = os.path.join(output_dir, 'localizaciones_asociadas_piezometro_2015.jpg')\n",
    "plt.savefig(plot_out, dpi=300)\n",
    "plt.show()"
   ]
  },
  {
   "cell_type": "markdown",
   "id": "a9655ca6",
   "metadata": {},
   "source": [
    "Hago algo de estadística con las distancias: histograma, diagrama de caja y bigotes y diagrama de violín. Se trata de visualizar la distribución de distancias entre los puntos de muestro y las ubicaciones de las estaciones piezométricas.\n"
   ]
  },
  {
   "cell_type": "code",
   "execution_count": null,
   "id": "893dfc26",
   "metadata": {},
   "outputs": [],
   "source": [
    "sns.set_theme(style=\"whitegrid\")\n",
    "sns.histplot(df_related_piezo['distance'].values, bins=20)\n",
    "plt.title('Distancia (m) entre localización de los puntos de muestreo y los piezómetros', fontsize=20)\n",
    "plt.xlabel(\"Distancia (m)\", fontsize=17)\n",
    "output_dir = os.path.abspath(config.get('directories', 'output_dir'))\n",
    "plot_out = os.path.join(output_dir, 'histograma_distancias_a_piezometros.jpg')\n",
    "plt.savefig(plot_out, dpi=300)\n",
    "plt.show()"
   ]
  },
  {
   "cell_type": "code",
   "execution_count": null,
   "id": "956f916e",
   "metadata": {},
   "outputs": [],
   "source": [
    "# gráfica de caja y bigote\n",
    "sns.set_theme(style=\"whitegrid\")\n",
    "sns.boxplot(data=df_related_piezo, y='distance')\n",
    "plt.title('Distancia entre puntos de muestreo y ubicaciones de piezómetros', fontsize=20)\n",
    "plt.ylabel('Distancia [m]', fontsize=17)\n",
    "output_dir = os.path.abspath(config.get('directories', 'output_dir'))\n",
    "plot_out = os.path.join(output_dir, 'boxplot_distancias_a_piezometros.jpg')\n",
    "\n",
    "plt.savefig(plot_out, dpi=300)\n",
    "\n",
    "plt.show()"
   ]
  },
  {
   "cell_type": "code",
   "execution_count": null,
   "id": "439eb755",
   "metadata": {
    "scrolled": false
   },
   "outputs": [],
   "source": [
    "# gráfica de violín\n",
    "\n",
    "sns.set_theme(style=\"whitegrid\")\n",
    "\n",
    "sns.violinplot(data=df_related_piezo, y='distance')\n",
    "plt.title('Distancia entre puntos de muestreo y ubicaciones de piezómetros', fontsize=20)\n",
    "plt.ylabel('Distancia [m]', fontsize=17)\n",
    "output_dir = os.path.abspath(config.get('directories', 'output_dir'))\n",
    "plot_out = os.path.join(output_dir, 'violinplot_distancias_a_piezometros.jpg')\n",
    "plt.savefig(plot_out, dpi=300)\n",
    "\n",
    "plt.show()"
   ]
  },
  {
   "cell_type": "code",
   "execution_count": null,
   "id": "0af6b909",
   "metadata": {},
   "outputs": [],
   "source": [
    "# Vuelco el contenido del dataframe de correspondencias entre localizaciones de muestreo y piezómetros a un fichero\n",
    "output_dir = os.path.abspath(config.get('directories', 'output_dir'))\n",
    "related_piezo_path = os.path.join(output_dir, 'correspondencias_piezometros.csv')\n",
    "df_related_piezo.to_csv(related_piezo_path, index=False)"
   ]
  },
  {
   "cell_type": "markdown",
   "id": "39f5d095",
   "metadata": {},
   "source": [
    "**Fichero de salida para las medidas piezométricas**"
   ]
  },
  {
   "cell_type": "code",
   "execution_count": null,
   "id": "551672e1",
   "metadata": {},
   "outputs": [],
   "source": [
    "print(measures_piezo.keys())"
   ]
  },
  {
   "cell_type": "code",
   "execution_count": null,
   "id": "6c37aa37",
   "metadata": {},
   "outputs": [],
   "source": [
    "measures_piezo[0]"
   ]
  },
  {
   "cell_type": "code",
   "execution_count": null,
   "id": "c8b32883",
   "metadata": {},
   "outputs": [],
   "source": [
    "\n",
    "for k, v in measures_piezo.items():\n",
    "    print(f'{k} -> {v}')\n",
    "    break"
   ]
  },
  {
   "cell_type": "code",
   "execution_count": null,
   "id": "d98ceb46",
   "metadata": {},
   "outputs": [],
   "source": [
    "for k, v in measures_piezo.items():\n",
    "    print(f\"{k}:{gdf_loc.loc[k, config.get('fields', 'location_label')]}\")\n",
    "    break"
   ]
  },
  {
   "cell_type": "code",
   "execution_count": null,
   "id": "01909269",
   "metadata": {},
   "outputs": [],
   "source": [
    "piezo_field = config.get('fields', 'piezo_measure')\n",
    "for k, v in measures_piezo.items():\n",
    "    # v es un dataframe con columnas 'fecha' y 'Cota_NP_msnm'. Cambio el nombre de la columna 'Cota_NP_msnm' al ID del punto de muestreo\n",
    "    # temp = v.rename(columns={piezo_field:int(k)})\n",
    "    temp = v.rename(columns={piezo_field:gdf_loc.loc[k, config.get('fields', 'location_label')]})\n",
    "    \n",
    "print(temp)"
   ]
  },
  {
   "cell_type": "code",
   "execution_count": null,
   "id": "bb241c9a",
   "metadata": {},
   "outputs": [],
   "source": [
    "# Fichero de salida para las medidas piezométricas\n",
    "\n",
    "df_data_piezo = None\n",
    "piezo_field = config.get('fields', 'piezo_measure')\n",
    "print(f'Piezometry measure field = \"{piezo_field}\"')\n",
    "for k, v in measures_piezo.items():\n",
    "    # v es un dataframe con columnas 'fecha' y 'Cota_NP_msnm'. Cambio el nombre de la columna 'Cota_NP_msnm' al ID del punto de muestreo\n",
    "    # temp = v.rename(columns={piezo_field:int(k)})\n",
    "    temp = v.rename(columns={piezo_field:gdf_loc.loc[k, config.get('fields', 'location_label')]})\n",
    "\n",
    "    if df_data_piezo is None:\n",
    "        df_data_piezo = temp\n",
    "    else:\n",
    "        df_data_piezo = df_data_piezo.merge(temp, left_on='fecha', right_on='fecha', how='outer')\n",
    "\n",
    "print(df_data_piezo.info())"
   ]
  },
  {
   "cell_type": "code",
   "execution_count": null,
   "id": "9177a8ec",
   "metadata": {},
   "outputs": [],
   "source": [
    "df_data_piezo.head()"
   ]
  },
  {
   "cell_type": "code",
   "execution_count": null,
   "id": "df524fd3",
   "metadata": {},
   "outputs": [],
   "source": [
    "output_dir = os.path.abspath(config.get('directories', 'output_dir'))\n",
    "piezometrias_out = os.path.join(output_dir, config.get('paths', 'out_longer_piezo'))\n",
    "# tiempo de escritura de fichero\n",
    "ini_time = int(time.time())\n",
    "df_data_piezo.to_csv(piezometrias_out, index=False, header=True)\n",
    "final_time = int(time.time())\n",
    "print(f'Tiempo de escritura del fichero \"{piezometrias_out}\" = {final_time - ini_time} s')"
   ]
  },
  {
   "cell_type": "code",
   "execution_count": null,
   "id": "264bf9ce",
   "metadata": {},
   "outputs": [],
   "source": [
    "# Primeros 50 resultados.\n",
    "print(df_data_piezo.head(50))"
   ]
  },
  {
   "cell_type": "code",
   "execution_count": null,
   "id": "fac84ba6",
   "metadata": {},
   "outputs": [],
   "source": [
    "# Últimos 50 resultados\n",
    "print(df_data_piezo.tail(50))"
   ]
  },
  {
   "cell_type": "code",
   "execution_count": null,
   "id": "644ef2f4",
   "metadata": {},
   "outputs": [],
   "source": []
  }
 ],
 "metadata": {
  "kernelspec": {
   "display_name": "Python 3 (ipykernel)",
   "language": "python",
   "name": "python3"
  },
  "language_info": {
   "codemirror_mode": {
    "name": "ipython",
    "version": 3
   },
   "file_extension": ".py",
   "mimetype": "text/x-python",
   "name": "python",
   "nbconvert_exporter": "python",
   "pygments_lexer": "ipython3",
   "version": "3.9.12"
  },
  "vscode": {
   "interpreter": {
    "hash": "81794d4967e6c3204c66dcd87b604927b115b27c00565d3d43f05ba2f3a2cb0d"
   }
  }
 },
 "nbformat": 4,
 "nbformat_minor": 5
}
